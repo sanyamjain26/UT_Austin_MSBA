{
 "cells": [
  {
   "cell_type": "code",
   "execution_count": 2,
   "id": "b11c186b",
   "metadata": {},
   "outputs": [],
   "source": [
    "import pandas as pd"
   ]
  },
  {
   "cell_type": "code",
   "execution_count": 60,
   "id": "912ad5d3",
   "metadata": {},
   "outputs": [],
   "source": [
    "data = pd.read_csv('MetroPT3(AirCompressor).CSV')\n",
    "data = data.drop('Unnamed: 0', axis=1)"
   ]
  },
  {
   "cell_type": "code",
   "execution_count": 75,
   "id": "d5d30cea",
   "metadata": {},
   "outputs": [],
   "source": [
    "data['timestamp'] = pd.to_datetime(data['timestamp'])\n",
    "data.set_index('timestamp', inplace=True)"
   ]
  },
  {
   "cell_type": "code",
   "execution_count": 76,
   "id": "ff112b89",
   "metadata": {},
   "outputs": [],
   "source": [
    "data['failure'] = 0"
   ]
  },
  {
   "cell_type": "code",
   "execution_count": 89,
   "id": "199c3d39",
   "metadata": {},
   "outputs": [],
   "source": [
    "data.loc[(data.index>='2020-04-18 00:00:00') & (data.index<='2020-04-18 23:59:00'), 'failure'] = 1\n",
    "data.loc[(data.index>='2020-05-29 23:30:00') & (data.index<='2020-05-30 06:00:00'), 'failure'] = 1\n",
    "data.loc[(data.index>='2020-06-05 10:00:00') & (data.index<='2020-06-07 14:30:00'), 'failure'] = 1\n",
    "data.loc[(data.index>='2020-07-15 14:30:00') & (data.index<='2020-07-15 19:00:00'), 'failure'] = 1"
   ]
  },
  {
   "cell_type": "code",
   "execution_count": 95,
   "id": "c79e9dc5",
   "metadata": {},
   "outputs": [
    {
     "data": {
      "text/html": [
       "<div>\n",
       "<style scoped>\n",
       "    .dataframe tbody tr th:only-of-type {\n",
       "        vertical-align: middle;\n",
       "    }\n",
       "\n",
       "    .dataframe tbody tr th {\n",
       "        vertical-align: top;\n",
       "    }\n",
       "\n",
       "    .dataframe thead th {\n",
       "        text-align: right;\n",
       "    }\n",
       "</style>\n",
       "<table border=\"1\" class=\"dataframe\">\n",
       "  <thead>\n",
       "    <tr style=\"text-align: right;\">\n",
       "      <th></th>\n",
       "      <th>TP2</th>\n",
       "      <th>TP3</th>\n",
       "      <th>H1</th>\n",
       "      <th>DV_pressure</th>\n",
       "      <th>Reservoirs</th>\n",
       "      <th>Oil_temperature</th>\n",
       "      <th>Motor_current</th>\n",
       "      <th>COMP</th>\n",
       "      <th>DV_eletric</th>\n",
       "      <th>Towers</th>\n",
       "      <th>MPG</th>\n",
       "      <th>LPS</th>\n",
       "      <th>Pressure_switch</th>\n",
       "      <th>Oil_level</th>\n",
       "      <th>Caudal_impulses</th>\n",
       "      <th>failure</th>\n",
       "    </tr>\n",
       "    <tr>\n",
       "      <th>timestamp</th>\n",
       "      <th></th>\n",
       "      <th></th>\n",
       "      <th></th>\n",
       "      <th></th>\n",
       "      <th></th>\n",
       "      <th></th>\n",
       "      <th></th>\n",
       "      <th></th>\n",
       "      <th></th>\n",
       "      <th></th>\n",
       "      <th></th>\n",
       "      <th></th>\n",
       "      <th></th>\n",
       "      <th></th>\n",
       "      <th></th>\n",
       "      <th></th>\n",
       "    </tr>\n",
       "  </thead>\n",
       "  <tbody>\n",
       "    <tr>\n",
       "      <th>2020-02-01 00:00:00</th>\n",
       "      <td>-0.012</td>\n",
       "      <td>9.358</td>\n",
       "      <td>9.340</td>\n",
       "      <td>-0.024</td>\n",
       "      <td>9.358</td>\n",
       "      <td>53.600</td>\n",
       "      <td>0.0400</td>\n",
       "      <td>1.0</td>\n",
       "      <td>0.0</td>\n",
       "      <td>1.0</td>\n",
       "      <td>1.0</td>\n",
       "      <td>0.0</td>\n",
       "      <td>1.0</td>\n",
       "      <td>1.0</td>\n",
       "      <td>1.0</td>\n",
       "      <td>0</td>\n",
       "    </tr>\n",
       "    <tr>\n",
       "      <th>2020-02-01 00:00:10</th>\n",
       "      <td>-0.014</td>\n",
       "      <td>9.348</td>\n",
       "      <td>9.332</td>\n",
       "      <td>-0.022</td>\n",
       "      <td>9.348</td>\n",
       "      <td>53.675</td>\n",
       "      <td>0.0400</td>\n",
       "      <td>1.0</td>\n",
       "      <td>0.0</td>\n",
       "      <td>1.0</td>\n",
       "      <td>1.0</td>\n",
       "      <td>0.0</td>\n",
       "      <td>1.0</td>\n",
       "      <td>1.0</td>\n",
       "      <td>1.0</td>\n",
       "      <td>0</td>\n",
       "    </tr>\n",
       "    <tr>\n",
       "      <th>2020-02-01 00:00:19</th>\n",
       "      <td>-0.012</td>\n",
       "      <td>9.338</td>\n",
       "      <td>9.322</td>\n",
       "      <td>-0.022</td>\n",
       "      <td>9.338</td>\n",
       "      <td>53.600</td>\n",
       "      <td>0.0425</td>\n",
       "      <td>1.0</td>\n",
       "      <td>0.0</td>\n",
       "      <td>1.0</td>\n",
       "      <td>1.0</td>\n",
       "      <td>0.0</td>\n",
       "      <td>1.0</td>\n",
       "      <td>1.0</td>\n",
       "      <td>1.0</td>\n",
       "      <td>0</td>\n",
       "    </tr>\n",
       "    <tr>\n",
       "      <th>2020-02-01 00:00:29</th>\n",
       "      <td>-0.012</td>\n",
       "      <td>9.328</td>\n",
       "      <td>9.312</td>\n",
       "      <td>-0.022</td>\n",
       "      <td>9.328</td>\n",
       "      <td>53.425</td>\n",
       "      <td>0.0400</td>\n",
       "      <td>1.0</td>\n",
       "      <td>0.0</td>\n",
       "      <td>1.0</td>\n",
       "      <td>1.0</td>\n",
       "      <td>0.0</td>\n",
       "      <td>1.0</td>\n",
       "      <td>1.0</td>\n",
       "      <td>1.0</td>\n",
       "      <td>0</td>\n",
       "    </tr>\n",
       "    <tr>\n",
       "      <th>2020-02-01 00:00:39</th>\n",
       "      <td>-0.012</td>\n",
       "      <td>9.318</td>\n",
       "      <td>9.302</td>\n",
       "      <td>-0.022</td>\n",
       "      <td>9.318</td>\n",
       "      <td>53.475</td>\n",
       "      <td>0.0400</td>\n",
       "      <td>1.0</td>\n",
       "      <td>0.0</td>\n",
       "      <td>1.0</td>\n",
       "      <td>1.0</td>\n",
       "      <td>0.0</td>\n",
       "      <td>1.0</td>\n",
       "      <td>1.0</td>\n",
       "      <td>1.0</td>\n",
       "      <td>0</td>\n",
       "    </tr>\n",
       "  </tbody>\n",
       "</table>\n",
       "</div>"
      ],
      "text/plain": [
       "                       TP2    TP3     H1  DV_pressure  Reservoirs  \\\n",
       "timestamp                                                           \n",
       "2020-02-01 00:00:00 -0.012  9.358  9.340       -0.024       9.358   \n",
       "2020-02-01 00:00:10 -0.014  9.348  9.332       -0.022       9.348   \n",
       "2020-02-01 00:00:19 -0.012  9.338  9.322       -0.022       9.338   \n",
       "2020-02-01 00:00:29 -0.012  9.328  9.312       -0.022       9.328   \n",
       "2020-02-01 00:00:39 -0.012  9.318  9.302       -0.022       9.318   \n",
       "\n",
       "                     Oil_temperature  Motor_current  COMP  DV_eletric  Towers  \\\n",
       "timestamp                                                                       \n",
       "2020-02-01 00:00:00           53.600         0.0400   1.0         0.0     1.0   \n",
       "2020-02-01 00:00:10           53.675         0.0400   1.0         0.0     1.0   \n",
       "2020-02-01 00:00:19           53.600         0.0425   1.0         0.0     1.0   \n",
       "2020-02-01 00:00:29           53.425         0.0400   1.0         0.0     1.0   \n",
       "2020-02-01 00:00:39           53.475         0.0400   1.0         0.0     1.0   \n",
       "\n",
       "                     MPG  LPS  Pressure_switch  Oil_level  Caudal_impulses  \\\n",
       "timestamp                                                                    \n",
       "2020-02-01 00:00:00  1.0  0.0              1.0        1.0              1.0   \n",
       "2020-02-01 00:00:10  1.0  0.0              1.0        1.0              1.0   \n",
       "2020-02-01 00:00:19  1.0  0.0              1.0        1.0              1.0   \n",
       "2020-02-01 00:00:29  1.0  0.0              1.0        1.0              1.0   \n",
       "2020-02-01 00:00:39  1.0  0.0              1.0        1.0              1.0   \n",
       "\n",
       "                     failure  \n",
       "timestamp                     \n",
       "2020-02-01 00:00:00        0  \n",
       "2020-02-01 00:00:10        0  \n",
       "2020-02-01 00:00:19        0  \n",
       "2020-02-01 00:00:29        0  \n",
       "2020-02-01 00:00:39        0  "
      ]
     },
     "execution_count": 95,
     "metadata": {},
     "output_type": "execute_result"
    }
   ],
   "source": [
    "data.head()"
   ]
  },
  {
   "cell_type": "code",
   "execution_count": 109,
   "id": "0cfd48c0",
   "metadata": {},
   "outputs": [
    {
     "data": {
      "text/plain": [
       "0.019746227293222972"
      ]
     },
     "execution_count": 109,
     "metadata": {},
     "output_type": "execute_result"
    }
   ],
   "source": [
    "data['failure'].mean()"
   ]
  },
  {
   "cell_type": "code",
   "execution_count": 92,
   "id": "c9482ae5",
   "metadata": {},
   "outputs": [
    {
     "data": {
      "text/plain": [
       "Index(['TP2', 'TP3', 'H1', 'DV_pressure', 'Reservoirs', 'Oil_temperature',\n",
       "       'Motor_current', 'COMP', 'DV_eletric', 'Towers', 'MPG', 'LPS',\n",
       "       'Pressure_switch', 'Oil_level', 'Caudal_impulses', 'failure'],\n",
       "      dtype='object')"
      ]
     },
     "execution_count": 92,
     "metadata": {},
     "output_type": "execute_result"
    }
   ],
   "source": [
    "data.columns"
   ]
  },
  {
   "cell_type": "code",
   "execution_count": 93,
   "id": "519e6d79",
   "metadata": {},
   "outputs": [
    {
     "name": "stdout",
     "output_type": "stream",
     "text": [
      "Collecting pytorch_tabnet\n",
      "  Downloading pytorch_tabnet-4.1.0-py3-none-any.whl (44 kB)\n",
      "     -------------------------------------- 44.5/44.5 kB 552.3 kB/s eta 0:00:00\n",
      "Requirement already satisfied: tqdm>=4.36 in c:\\users\\vgupt\\appdata\\local\\anaconda3\\lib\\site-packages (from pytorch_tabnet) (4.64.1)\n",
      "Requirement already satisfied: torch>=1.3 in c:\\users\\vgupt\\appdata\\local\\anaconda3\\lib\\site-packages (from pytorch_tabnet) (1.12.1)\n",
      "Requirement already satisfied: numpy>=1.17 in c:\\users\\vgupt\\appdata\\local\\anaconda3\\lib\\site-packages (from pytorch_tabnet) (1.22.1)\n",
      "Requirement already satisfied: scikit_learn>0.21 in c:\\users\\vgupt\\appdata\\local\\anaconda3\\lib\\site-packages (from pytorch_tabnet) (1.2.1)\n",
      "Requirement already satisfied: scipy>1.4 in c:\\users\\vgupt\\appdata\\local\\anaconda3\\lib\\site-packages (from pytorch_tabnet) (1.7.3)\n",
      "Requirement already satisfied: joblib>=1.1.1 in c:\\users\\vgupt\\appdata\\local\\anaconda3\\lib\\site-packages (from scikit_learn>0.21->pytorch_tabnet) (1.1.1)\n",
      "Requirement already satisfied: threadpoolctl>=2.0.0 in c:\\users\\vgupt\\appdata\\local\\anaconda3\\lib\\site-packages (from scikit_learn>0.21->pytorch_tabnet) (2.2.0)\n",
      "Requirement already satisfied: typing_extensions in c:\\users\\vgupt\\appdata\\local\\anaconda3\\lib\\site-packages (from torch>=1.3->pytorch_tabnet) (4.8.0)\n",
      "Requirement already satisfied: colorama in c:\\users\\vgupt\\appdata\\local\\anaconda3\\lib\\site-packages (from tqdm>=4.36->pytorch_tabnet) (0.4.6)\n",
      "Installing collected packages: pytorch_tabnet\n",
      "Successfully installed pytorch_tabnet-4.1.0\n",
      "Note: you may need to restart the kernel to use updated packages.\n"
     ]
    }
   ],
   "source": [
    "pip install pytorch_tabnet"
   ]
  },
  {
   "cell_type": "code",
   "execution_count": 94,
   "id": "c768bbdc",
   "metadata": {},
   "outputs": [],
   "source": [
    "import pandas as pd\n",
    "from sklearn.model_selection import train_test_split\n",
    "from sklearn.metrics import accuracy_score\n",
    "from pytorch_tabnet.tab_model import TabNetClassifier\n",
    "from pytorch_tabnet.pretraining import TabNetPretrainer\n",
    "from sklearn.preprocessing import LabelEncoder"
   ]
  },
  {
   "cell_type": "code",
   "execution_count": 104,
   "id": "5c1480fe",
   "metadata": {},
   "outputs": [
    {
     "name": "stderr",
     "output_type": "stream",
     "text": [
      "C:\\Users\\vgupt\\AppData\\Local\\anaconda3\\lib\\site-packages\\pytorch_tabnet\\abstract_model.py:82: UserWarning: Device used : cpu\n",
      "  warnings.warn(f\"Device used : {self.device}\")\n"
     ]
    },
    {
     "name": "stdout",
     "output_type": "stream",
     "text": [
      "epoch 0  | loss: 0.02409 | train_accuracy: 0.99319 | test_accuracy: 0.99318 |  0:02:55s\n",
      "epoch 1  | loss: 0.01701 | train_accuracy: 0.9939  | test_accuracy: 0.9939  |  0:05:45s\n",
      "epoch 2  | loss: 0.01509 | train_accuracy: 0.99626 | test_accuracy: 0.99628 |  0:08:35s\n",
      "epoch 3  | loss: 0.01534 | train_accuracy: 0.99333 | test_accuracy: 0.99333 |  0:11:26s\n",
      "epoch 4  | loss: 0.01588 | train_accuracy: 0.99378 | test_accuracy: 0.99381 |  0:14:25s\n",
      "epoch 5  | loss: 0.01552 | train_accuracy: 0.99422 | test_accuracy: 0.99416 |  0:17:15s\n",
      "epoch 6  | loss: 0.01395 | train_accuracy: 0.99415 | test_accuracy: 0.99402 |  0:20:04s\n",
      "epoch 7  | loss: 0.01397 | train_accuracy: 0.99421 | test_accuracy: 0.9942  |  0:22:50s\n",
      "epoch 8  | loss: 0.01376 | train_accuracy: 0.99465 | test_accuracy: 0.99458 |  0:25:38s\n",
      "epoch 9  | loss: 0.01354 | train_accuracy: 0.99425 | test_accuracy: 0.99416 |  0:28:26s\n",
      "epoch 10 | loss: 0.01362 | train_accuracy: 0.99435 | test_accuracy: 0.99434 |  0:31:15s\n",
      "epoch 11 | loss: 0.01428 | train_accuracy: 0.99264 | test_accuracy: 0.99257 |  0:34:05s\n",
      "epoch 12 | loss: 0.01384 | train_accuracy: 0.99408 | test_accuracy: 0.99394 |  0:36:54s\n",
      "\n",
      "Early stopping occurred at epoch 12 with best_epoch = 2 and best_test_accuracy = 0.99628\n"
     ]
    },
    {
     "name": "stderr",
     "output_type": "stream",
     "text": [
      "C:\\Users\\vgupt\\AppData\\Local\\anaconda3\\lib\\site-packages\\pytorch_tabnet\\callbacks.py:172: UserWarning: Best weights from best epoch are automatically used!\n",
      "  warnings.warn(wrn_msg)\n"
     ]
    },
    {
     "name": "stdout",
     "output_type": "stream",
     "text": [
      "Accuracy: 0.9962776184668798\n"
     ]
    }
   ],
   "source": [
    "# Preprocess the data\n",
    "\n",
    "# Split the data into features and target variable\n",
    "X = data.drop(columns=['failure'])\n",
    "y = data['failure']\n",
    "\n",
    "# Split the data into training and testing sets\n",
    "X_train, X_test, y_train, y_test = train_test_split(X, y, test_size=0.3, random_state=42)\n",
    "\n",
    "# Initialize TabNet classifier\n",
    "clf = TabNetClassifier()\n",
    "\n",
    "# Train the model\n",
    "clf.fit(\n",
    "    X_train.values, y_train.values,\n",
    "    eval_set=[(X_train.values, y_train.values), (X_test.values, y_test.values)],\n",
    "    eval_name=['train', 'test'],\n",
    "    eval_metric=['accuracy']\n",
    ")\n",
    "\n",
    "# Predictions on the test set\n",
    "y_pred_TN = clf.predict(X_test.values)\n",
    "\n",
    "# Calculate accuracy\n",
    "accuracy = accuracy_score(y_test, y_pred_TN)\n",
    "print(f'Accuracy: {accuracy}')\n"
   ]
  },
  {
   "cell_type": "code",
   "execution_count": 106,
   "id": "b28d0685",
   "metadata": {},
   "outputs": [
    {
     "name": "stdout",
     "output_type": "stream",
     "text": [
      "Classification Report:\n",
      "              precision    recall  f1-score   support\n",
      "\n",
      "           0       1.00      1.00      1.00    445967\n",
      "           1       0.87      0.96      0.91      9118\n",
      "\n",
      "    accuracy                           1.00    455085\n",
      "   macro avg       0.93      0.98      0.95    455085\n",
      "weighted avg       1.00      1.00      1.00    455085\n",
      "\n"
     ]
    }
   ],
   "source": [
    "print('Classification Report:')\n",
    "print(classification_report(y_test, y_pred_TN))"
   ]
  },
  {
   "cell_type": "code",
   "execution_count": 105,
   "id": "8cd17a2b",
   "metadata": {},
   "outputs": [
    {
     "data": {
      "image/png": "[encoded data removed]",
      "text/plain": [
       "<Figure size 800x600 with 1 Axes>"
      ]
     },
     "metadata": {},
     "output_type": "display_data"
    }
   ],
   "source": [
    "from sklearn.metrics import confusion_matrix\n",
    "import seaborn as sns\n",
    "import matplotlib.pyplot as plt\n",
    "\n",
    "# Assuming logreg is your Logistic Regression model\n",
    "# (you can replace it with the actual variable name of your trained model)\n",
    "conf_matrix = confusion_matrix(y_test, y_pred_TN)\n",
    "\n",
    "# Plot the confusion matrix using seaborn\n",
    "plt.figure(figsize=(8, 6))\n",
    "sns.heatmap(conf_matrix, annot=True, fmt='d', cmap='Blues', cbar=False,\n",
    "            xticklabels=['Not Failure', 'Failure'],\n",
    "            yticklabels=['Not Failure', 'Failure'])\n",
    "plt.xlabel('Predicted')\n",
    "plt.ylabel('True')\n",
    "plt.title('Confusion Matrix')\n",
    "plt.show()"
   ]
  },
  {
   "cell_type": "code",
   "execution_count": 102,
   "id": "91c32b3b",
   "metadata": {},
   "outputs": [
    {
     "name": "stderr",
     "output_type": "stream",
     "text": [
      "C:\\Users\\vgupt\\AppData\\Local\\anaconda3\\lib\\site-packages\\sklearn\\linear_model\\_logistic.py:458: ConvergenceWarning: lbfgs failed to converge (status=1):\n",
      "STOP: TOTAL NO. of ITERATIONS REACHED LIMIT.\n",
      "\n",
      "Increase the number of iterations (max_iter) or scale the data as shown in:\n",
      "    https://scikit-learn.org/stable/modules/preprocessing.html\n",
      "Please also refer to the documentation for alternative solver options:\n",
      "    https://scikit-learn.org/stable/modules/linear_model.html#logistic-regression\n",
      "  n_iter_i = _check_optimize_result(\n"
     ]
    },
    {
     "name": "stdout",
     "output_type": "stream",
     "text": [
      "Accuracy: 0.9870507707351374\n",
      "Classification Report:\n",
      "              precision    recall  f1-score   support\n",
      "\n",
      "           0       0.99      0.99      0.99    445967\n",
      "           1       0.66      0.73      0.69      9118\n",
      "\n",
      "    accuracy                           0.99    455085\n",
      "   macro avg       0.83      0.86      0.84    455085\n",
      "weighted avg       0.99      0.99      0.99    455085\n",
      "\n"
     ]
    }
   ],
   "source": [
    "from sklearn.linear_model import LogisticRegression\n",
    "from sklearn.metrics import accuracy_score, classification_report\n",
    "\n",
    "# Initialize Logistic Regression model\n",
    "logreg = LogisticRegression()\n",
    "\n",
    "# Train the model\n",
    "logreg.fit(X_train, y_train)\n",
    "\n",
    "# Predictions on the test set\n",
    "y_pred_log = logreg.predict(X_test)\n",
    "\n",
    "# Calculate accuracy\n",
    "accuracy = accuracy_score(y_test, y_pred_log)\n",
    "print(f'Accuracy: {accuracy}')\n",
    "\n",
    "# Display classification report\n",
    "print('Classification Report:')\n",
    "print(classification_report(y_test, y_pred_log))"
   ]
  },
  {
   "cell_type": "code",
   "execution_count": 103,
   "id": "10f79a25",
   "metadata": {},
   "outputs": [
    {
     "data": {
      "image/png": "[encoded data removed]",
      "text/plain": [
       "<Figure size 800x600 with 1 Axes>"
      ]
     },
     "metadata": {},
     "output_type": "display_data"
    }
   ],
   "source": [
    "from sklearn.metrics import confusion_matrix\n",
    "import seaborn as sns\n",
    "import matplotlib.pyplot as plt\n",
    "\n",
    "# Assuming logreg is your Logistic Regression model\n",
    "# (you can replace it with the actual variable name of your trained model)\n",
    "conf_matrix = confusion_matrix(y_test, y_pred_log)\n",
    "\n",
    "# Plot the confusion matrix using seaborn\n",
    "plt.figure(figsize=(8, 6))\n",
    "sns.heatmap(conf_matrix, annot=True, fmt='d', cmap='Blues', cbar=False,\n",
    "            xticklabels=['Not Failure', 'Failure'],\n",
    "            yticklabels=['Not Failure', 'Failure'])\n",
    "plt.xlabel('Predicted')\n",
    "plt.ylabel('True')\n",
    "plt.title('Confusion Matrix')\n",
    "plt.show()"
   ]
  }
 ],
 "metadata": {
  "kernelspec": {
   "display_name": "Python 3 (ipykernel)",
   "language": "python",
   "name": "python3"
  },
  "language_info": {
   "codemirror_mode": {
    "name": "ipython",
    "version": 3
   },
   "file_extension": ".py",
   "mimetype": "text/x-python",
   "name": "python",
   "nbconvert_exporter": "python",
   "pygments_lexer": "ipython3",
   "version": "3.10.9"
  }
 },
 "nbformat": 4,
 "nbformat_minor": 5
}
