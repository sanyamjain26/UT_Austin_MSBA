{
  "nbformat": 4,
  "nbformat_minor": 0,
  "metadata": {
    "colab": {
      "provenance": []
    },
    "kernelspec": {
      "name": "python3",
      "display_name": "Python 3"
    },
    "language_info": {
      "name": "python"
    }
  },
  "cells": [
    {
      "cell_type": "code",
      "execution_count": null,
      "metadata": {
        "id": "ZgCsF8MzQFeL"
      },
      "outputs": [],
      "source": [
        "#Code source: https://sec-api.io/docs/sec-filings-item-extraction-api/python-example"
      ]
    },
    {
      "cell_type": "code",
      "source": [
        "!pip install sec-api"
      ],
      "metadata": {
        "colab": {
          "base_uri": "https://localhost:8080/"
        },
        "id": "deigQncwQRHm",
        "outputId": "83836375-f05d-4533-e955-ff0c37ca83b5"
      },
      "execution_count": null,
      "outputs": [
        {
          "output_type": "stream",
          "name": "stdout",
          "text": [
            "Collecting sec-api\n",
            "  Downloading sec_api-1.0.17-py3-none-any.whl (17 kB)\n",
            "Requirement already satisfied: requests in /usr/local/lib/python3.10/dist-packages (from sec-api) (2.31.0)\n",
            "Requirement already satisfied: charset-normalizer<4,>=2 in /usr/local/lib/python3.10/dist-packages (from requests->sec-api) (3.2.0)\n",
            "Requirement already satisfied: idna<4,>=2.5 in /usr/local/lib/python3.10/dist-packages (from requests->sec-api) (3.4)\n",
            "Requirement already satisfied: urllib3<3,>=1.21.1 in /usr/local/lib/python3.10/dist-packages (from requests->sec-api) (2.0.4)\n",
            "Requirement already satisfied: certifi>=2017.4.17 in /usr/local/lib/python3.10/dist-packages (from requests->sec-api) (2023.7.22)\n",
            "Installing collected packages: sec-api\n",
            "Successfully installed sec-api-1.0.17\n"
          ]
        }
      ]
    },
    {
      "cell_type": "markdown",
      "source": [],
      "metadata": {
        "id": "3SRzUlshMMNm"
      }
    },
    {
      "cell_type": "markdown",
      "source": [
        "Extract Item Sections from 10K"
      ],
      "metadata": {
        "id": "fyinRZuFm1CO"
      }
    },
    {
      "cell_type": "code",
      "source": [
        "# Tesla 10-K filing\n",
        "filing_url = \"https://www.sec.gov/Archives/edgar/data/1318605/000156459021004599/tsla-10k_20201231.htm\"\n",
        "\n",
        "# get the standardized and cleaned text of section 7 \"\"Management’s Discussion and Analysis of Financial Condition and Results of Operations\"\n",
        "section_text = extractorApi.get_section(filing_url, \"7\", \"text\")\n",
        "\n",
        "# get the original HTML of section 7\n",
        "# \"Management’s Discussion and Analysis of Financial Condition and Results of Operations\"\n",
        "section_html = extractorApi.get_section(filing_url, \"7\", \"html\")"
      ],
      "metadata": {
        "id": "ac4sLIWFRHpV"
      },
      "execution_count": null,
      "outputs": []
    },
    {
      "cell_type": "code",
      "source": [
        "#inspect text\n",
        "section_text[0:1000]"
      ],
      "metadata": {
        "id": "601u6DPVRcGZ",
        "colab": {
          "base_uri": "https://localhost:8080/",
          "height": 232
        },
        "outputId": "7db3e19d-0955-4df1-e888-eddc73c5a438"
      },
      "execution_count": null,
      "outputs": [
        {
          "output_type": "execute_result",
          "data": {
            "text/plain": [
              "\" ITEM 7. \\n\\nMANAGEMENT&#8217;S DISCUSSION AND ANALYSIS OF FINANCIAL CONDITION AND RESULTS OF OPERATIONS\\n\\n##TABLE_END\\n\\nThe following discussion and analysis should be read in conjunction with the consolidated financial statements and the related notes included elsewhere in this Annual Report on Form 10-K. For discussion related to changes in financial condition and the results of operations for fiscal year 2018-related items, refer to Part II, Item 7. Management's Discussion and Analysis of Financial Condition and Results of Operations in our Annual Report on Form 10-K for fiscal year 2019, which was filed with the Securities and Exchange Commission on February 13, 2020.\\n\\nOverview and 2020 Highlights\\n\\nOur mission is to accelerate the world&#8217;s transition to sustainable energy. We design, develop, manufacture, lease and sell high-performance fully electric vehicles, solar energy generation systems and energy storage products. We also offer maintenance, installation, operation, financi\""
            ],
            "application/vnd.google.colaboratory.intrinsic+json": {
              "type": "string"
            }
          },
          "metadata": {},
          "execution_count": 19
        }
      ]
    },
    {
      "cell_type": "code",
      "source": [
        "#inspect HTML\n",
        "from IPython.display import display, HTML\n",
        "display(HTML(\"<div><table><tr><td>\" + section_html[0:2034]))"
      ],
      "metadata": {
        "id": "8XJoL9GkRmMD",
        "colab": {
          "base_uri": "https://localhost:8080/",
          "height": 242
        },
        "outputId": "e56031f0-5339-4f26-f3c1-fa18239646ec"
      },
      "execution_count": null,
      "outputs": [
        {
          "output_type": "display_data",
          "data": {
            "text/plain": [
              "<IPython.core.display.HTML object>"
            ],
            "text/html": [
              "<div><table><tr><td><span style=\"font-weight:bold;font-family:Times New Roman;font-size:10pt;font-style:normal;text-transform:none;font-variant: normal;\">ITEM 7.</span></p></td> <td valign=\"top\"> <p style=\"margin-bottom:0pt;margin-top:0pt;font-weight:bold;font-style:normal;text-transform:none;font-variant: normal;font-family:Times New Roman;font-size:10pt;\" id=\"ITEM_7_MANAGEMENTS_DISCUSSION_ANALYSIS_F\">MANAGEMENT&#8217;S DISCUSSION AND ANALYSIS OF FINANCIAL CONDITION AND RESULTS OF OPERATIONS</p></td></tr></table></div> <p style=\"margin-bottom:0pt;margin-top:4pt;text-indent:4.54%;font-style:italic;font-family:Times New Roman;font-size:10pt;font-weight:normal;text-transform:none;font-variant: normal;\">The following discussion and analysis should be read in conjunction with the consolidated financial statements and the related notes included elsewhere in this Annual Report on Form 10-K.<span style=\"font-style:normal;\"> </span>For discussion related to changes in financial condition and the results of operations for fiscal year 2018-related items, refer to Part II, Item 7. Management's Discussion and Analysis of Financial Condition and Results of Operations in our Annual Report on Form 10-K for fiscal year 2019, which was filed with the Securities and Exchange Commission on February 13, 2020.</p> <p style=\"margin-top:14pt;margin-bottom:0pt;text-indent:0%;font-weight:bold;font-family:Times New Roman;font-size:10pt;font-style:normal;text-transform:none;font-variant: normal;\">Overview and 2020 Highlights</p> <p style=\"margin-top:4pt;margin-bottom:0pt;text-indent:4.54%;font-family:Times New Roman;font-size:10pt;font-weight:normal;font-style:normal;text-transform:none;font-variant: normal;\">Our mission is to accelerate the world&#8217;s transition to sustainable energy. We design, develop, manufacture, lease and sell high-performance fully electric vehicles, solar energy generation systems and energy storage products. We also offer maintenance, installation, operation, financial and other services related to our products.</p> "
            ]
          },
          "metadata": {}
        }
      ]
    },
    {
      "cell_type": "markdown",
      "source": [
        "Extract 10-K Sections over period of multiple years"
      ],
      "metadata": {
        "id": "v0gy21SkRxzo"
      }
    },
    {
      "cell_type": "code",
      "source": [
        "pip install sec-api"
      ],
      "metadata": {
        "id": "jZKQWuLvR27f"
      },
      "execution_count": null,
      "outputs": []
    },
    {
      "cell_type": "code",
      "source": [
        "from sec_api import ExtractorApi\n",
        "import multiprocessing"
      ],
      "metadata": {
        "id": "xYgD00knR7A3"
      },
      "execution_count": null,
      "outputs": []
    },
    {
      "cell_type": "code",
      "source": [
        "API_KEY = \"88064a9fe0bd242c808ca5921220a36f20d1542126a79899cae27f2bd16dff98\"\n",
        "\n",
        "extractorApi = ExtractorApi(API_KEY)"
      ],
      "metadata": {
        "id": "SGfk8v8zR9Om"
      },
      "execution_count": null,
      "outputs": []
    },
    {
      "cell_type": "code",
      "source": [
        "def extract_items_10k(filing_url):\n",
        "  items = [\"7\",\"7A\"]\n",
        "\n",
        "  for item in items:\n",
        "    print(\"item:\", item, \"url\", filing_url)\n",
        "\n",
        "    try:\n",
        "      section_text = extractorApi.get_section(filing_url=filing_url,\n",
        "                                              section=item,\n",
        "                                              return_type=\"text\")\n",
        "\n",
        "      # do something with section_text. for example, save to disk, in a database\n",
        "      # or perform analytics\n",
        "      # IMPORTANT: you don't want to hold a large number of sections in memory\n",
        "      # and add sections to a list. otherwise you end up with out-of-memory issues.\n",
        "      # instead make sure to let the garbage collection release memory frequently.\n",
        "\n",
        "    except Exception as e:\n",
        "      print(e)"
      ],
      "metadata": {
        "id": "-Jy2RuWkSAZ5"
      },
      "execution_count": null,
      "outputs": []
    },
    {
      "cell_type": "code",
      "source": [
        "urls_10k = [\"https://www.sec.gov/Archives/edgar/data/815094/000156459019020329/abmd-10k_20190331.htm\",\n",
        "            \"https://www.sec.gov/Archives/edgar/data/789019/000156459019027952/msft-10k_20190630.htm\"]\n",
        "\n",
        "number_of_processes = 2\n",
        "\n",
        "with multiprocessing.Pool(number_of_processes) as pool:\n",
        "  pool.map(extract_items_10k, urls_10k)"
      ],
      "metadata": {
        "colab": {
          "base_uri": "https://localhost:8080/"
        },
        "id": "yidwTj7xSC-9",
        "outputId": "adb8a7db-fd89-4f5e-8282-c89b7f2ff6ff"
      },
      "execution_count": null,
      "outputs": [
        {
          "output_type": "stream",
          "name": "stdout",
          "text": [
            "item:item:  77 url https://www.sec.gov/Archives/edgar/data/815094/000156459019020329/abmd-10k_20190331.htm\n",
            " url https://www.sec.gov/Archives/edgar/data/789019/000156459019027952/msft-10k_20190630.htm\n",
            "item: 7A item:url 7A  https://www.sec.gov/Archives/edgar/data/789019/000156459019027952/msft-10k_20190630.htmurl\n",
            " https://www.sec.gov/Archives/edgar/data/815094/000156459019020329/abmd-10k_20190331.htm\n"
          ]
        }
      ]
    },
    {
      "cell_type": "code",
      "source": [],
      "metadata": {
        "id": "8N03EvyaSF45"
      },
      "execution_count": null,
      "outputs": []
    }
  ]
}