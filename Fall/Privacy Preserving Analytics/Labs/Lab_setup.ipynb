{
 "cells": [
  {
   "cell_type": "code",
   "execution_count": 1,
   "id": "68da23db",
   "metadata": {},
   "outputs": [
    {
     "name": "stdout",
     "output_type": "stream",
     "text": [
      "Collecting anonypy\n",
      "  Downloading anonypy-0.1.7-py3-none-any.whl (10 kB)\n",
      "Installing collected packages: anonypy\n",
      "Successfully installed anonypy-0.1.7\n"
     ]
    }
   ],
   "source": [
    "! pip install anonypy"
   ]
  },
  {
   "cell_type": "code",
   "execution_count": 2,
   "id": "1202ee40",
   "metadata": {},
   "outputs": [
    {
     "ename": "ModuleNotFoundError",
     "evalue": "No module named 'art'",
     "output_type": "error",
     "traceback": [
      "\u001b[1;31m---------------------------------------------------------------------------\u001b[0m",
      "\u001b[1;31mModuleNotFoundError\u001b[0m                       Traceback (most recent call last)",
      "Cell \u001b[1;32mIn[2], line 1\u001b[0m\n\u001b[1;32m----> 1\u001b[0m \u001b[38;5;28;01mimport\u001b[39;00m \u001b[38;5;21;01mart\u001b[39;00m\n",
      "\u001b[1;31mModuleNotFoundError\u001b[0m: No module named 'art'"
     ]
    }
   ],
   "source": [
    "import art"
   ]
  },
  {
   "cell_type": "code",
   "execution_count": 3,
   "id": "fcad0a8f",
   "metadata": {},
   "outputs": [
    {
     "name": "stdout",
     "output_type": "stream",
     "text": [
      "Collecting art\n",
      "  Downloading art-6.1-py3-none-any.whl (599 kB)\n",
      "     -------------------------------------- 599.8/599.8 kB 2.4 MB/s eta 0:00:00\n",
      "Installing collected packages: art\n",
      "Successfully installed art-6.1\n"
     ]
    }
   ],
   "source": [
    "! pip install art"
   ]
  },
  {
   "cell_type": "code",
   "execution_count": 4,
   "id": "84bbf14a",
   "metadata": {},
   "outputs": [
    {
     "name": "stdout",
     "output_type": "stream",
     "text": [
      "Collecting diffprivlib\n",
      "  Downloading diffprivlib-0.6.3-py3-none-any.whl (176 kB)\n",
      "     -------------------------------------- 176.0/176.0 kB 1.8 MB/s eta 0:00:00\n",
      "Requirement already satisfied: scipy>=1.7.3 in c:\\users\\hp\\anaconda3\\lib\\site-packages (from diffprivlib) (1.10.0)\n",
      "Requirement already satisfied: setuptools>=49.0.0 in c:\\users\\hp\\anaconda3\\lib\\site-packages (from diffprivlib) (65.6.3)\n",
      "Requirement already satisfied: joblib>=0.16.0 in c:\\users\\hp\\anaconda3\\lib\\site-packages (from diffprivlib) (1.1.1)\n",
      "Requirement already satisfied: numpy>=1.21.6 in c:\\users\\hp\\anaconda3\\lib\\site-packages (from diffprivlib) (1.23.5)\n",
      "Requirement already satisfied: scikit-learn>=0.24.2 in c:\\users\\hp\\anaconda3\\lib\\site-packages (from diffprivlib) (1.2.1)\n",
      "Requirement already satisfied: threadpoolctl>=2.0.0 in c:\\users\\hp\\anaconda3\\lib\\site-packages (from scikit-learn>=0.24.2->diffprivlib) (2.2.0)\n",
      "Installing collected packages: diffprivlib\n",
      "Successfully installed diffprivlib-0.6.3\n"
     ]
    }
   ],
   "source": [
    "! pip install diffprivlib"
   ]
  },
  {
   "cell_type": "code",
   "execution_count": 5,
   "id": "a7de73e3",
   "metadata": {},
   "outputs": [
    {
     "name": "stdout",
     "output_type": "stream",
     "text": [
      "Collecting sdv\n",
      "  Downloading sdv-1.5.0-py2.py3-none-any.whl (130 kB)\n",
      "     -------------------------------------- 130.1/130.1 kB 1.1 MB/s eta 0:00:00\n",
      "Collecting cloudpickle<3.0,>=2.1.0\n",
      "  Downloading cloudpickle-2.2.1-py3-none-any.whl (25 kB)\n",
      "Collecting sdmetrics<0.12,>=0.11.0\n",
      "  Downloading sdmetrics-0.11.1-py2.py3-none-any.whl (160 kB)\n",
      "     -------------------------------------- 160.3/160.3 kB 2.4 MB/s eta 0:00:00\n",
      "Collecting Faker<15,>=10\n",
      "  Downloading Faker-14.2.1-py3-none-any.whl (1.6 MB)\n",
      "     ---------------------------------------- 1.6/1.6 MB 3.0 MB/s eta 0:00:00\n",
      "Collecting graphviz<1,>=0.13.2\n",
      "  Downloading graphviz-0.20.1-py3-none-any.whl (47 kB)\n",
      "     ---------------------------------------- 47.0/47.0 kB 2.5 MB/s eta 0:00:00\n",
      "Requirement already satisfied: tqdm<5,>=4.15 in c:\\users\\hp\\anaconda3\\lib\\site-packages (from sdv) (4.64.1)\n",
      "Collecting boto3<2,>=1.15.0\n",
      "  Downloading boto3-1.28.72-py3-none-any.whl (135 kB)\n",
      "     -------------------------------------- 135.8/135.8 kB 4.1 MB/s eta 0:00:00\n",
      "Collecting ctgan<0.8,>=0.7.4\n",
      "  Downloading ctgan-0.7.5-py2.py3-none-any.whl (27 kB)\n",
      "Requirement already satisfied: numpy<2,>=1.23.3 in c:\\users\\hp\\anaconda3\\lib\\site-packages (from sdv) (1.23.5)\n",
      "Collecting botocore<2,>=1.18\n",
      "  Downloading botocore-1.31.72-py3-none-any.whl (11.3 MB)\n",
      "     ---------------------------------------- 11.3/11.3 MB 8.6 MB/s eta 0:00:00\n",
      "Requirement already satisfied: pandas>=1.3.4 in c:\\users\\hp\\anaconda3\\lib\\site-packages (from sdv) (1.5.3)\n",
      "Collecting copulas<0.10,>=0.9.0\n",
      "  Downloading copulas-0.9.2-py2.py3-none-any.whl (54 kB)\n",
      "     ---------------------------------------- 54.6/54.6 kB 3.0 MB/s eta 0:00:00\n",
      "Collecting rdt<2,>=1.7.0\n",
      "  Downloading rdt-1.7.0-py2.py3-none-any.whl (70 kB)\n",
      "     ---------------------------------------- 70.5/70.5 kB ? eta 0:00:00\n",
      "Collecting deepecho<0.5,>=0.4.2\n",
      "  Downloading deepecho-0.4.2-py2.py3-none-any.whl (29 kB)\n",
      "Requirement already satisfied: jmespath<2.0.0,>=0.7.1 in c:\\users\\hp\\anaconda3\\lib\\site-packages (from boto3<2,>=1.15.0->sdv) (0.10.0)\n",
      "Collecting s3transfer<0.8.0,>=0.7.0\n",
      "  Downloading s3transfer-0.7.0-py3-none-any.whl (79 kB)\n",
      "     ---------------------------------------- 79.8/79.8 kB 4.3 MB/s eta 0:00:00\n",
      "Requirement already satisfied: urllib3<2.1,>=1.25.4 in c:\\users\\hp\\anaconda3\\lib\\site-packages (from botocore<2,>=1.18->sdv) (1.26.14)\n",
      "Requirement already satisfied: python-dateutil<3.0.0,>=2.1 in c:\\users\\hp\\anaconda3\\lib\\site-packages (from botocore<2,>=1.18->sdv) (2.8.2)\n",
      "Requirement already satisfied: matplotlib<4,>=3.6.0 in c:\\users\\hp\\anaconda3\\lib\\site-packages (from copulas<0.10,>=0.9.0->sdv) (3.7.0)\n",
      "Requirement already satisfied: scipy<2,>=1.9.2 in c:\\users\\hp\\anaconda3\\lib\\site-packages (from copulas<0.10,>=0.9.0->sdv) (1.10.0)\n",
      "Requirement already satisfied: scikit-learn<2,>=1.1.3 in c:\\users\\hp\\anaconda3\\lib\\site-packages (from ctgan<0.8,>=0.7.4->sdv) (1.2.1)\n",
      "Requirement already satisfied: torch>=1.11.0 in c:\\users\\hp\\anaconda3\\lib\\site-packages (from ctgan<0.8,>=0.7.4->sdv) (1.12.1)\n",
      "Requirement already satisfied: pytz>=2020.1 in c:\\users\\hp\\anaconda3\\lib\\site-packages (from pandas>=1.3.4->sdv) (2022.7)\n",
      "Requirement already satisfied: psutil<6,>=5.7 in c:\\users\\hp\\anaconda3\\lib\\site-packages (from rdt<2,>=1.7.0->sdv) (5.9.0)\n",
      "Collecting plotly<6,>=5.10.0\n",
      "  Downloading plotly-5.18.0-py3-none-any.whl (15.6 MB)\n",
      "     --------------------------------------- 15.6/15.6 MB 19.3 MB/s eta 0:00:00\n",
      "Requirement already satisfied: colorama in c:\\users\\hp\\anaconda3\\lib\\site-packages (from tqdm<5,>=4.15->sdv) (0.4.6)\n",
      "Requirement already satisfied: pyparsing>=2.3.1 in c:\\users\\hp\\anaconda3\\lib\\site-packages (from matplotlib<4,>=3.6.0->copulas<0.10,>=0.9.0->sdv) (3.0.9)\n",
      "Requirement already satisfied: fonttools>=4.22.0 in c:\\users\\hp\\anaconda3\\lib\\site-packages (from matplotlib<4,>=3.6.0->copulas<0.10,>=0.9.0->sdv) (4.25.0)\n",
      "Requirement already satisfied: packaging>=20.0 in c:\\users\\hp\\anaconda3\\lib\\site-packages (from matplotlib<4,>=3.6.0->copulas<0.10,>=0.9.0->sdv) (22.0)\n",
      "Requirement already satisfied: pillow>=6.2.0 in c:\\users\\hp\\anaconda3\\lib\\site-packages (from matplotlib<4,>=3.6.0->copulas<0.10,>=0.9.0->sdv) (9.4.0)\n",
      "Requirement already satisfied: contourpy>=1.0.1 in c:\\users\\hp\\anaconda3\\lib\\site-packages (from matplotlib<4,>=3.6.0->copulas<0.10,>=0.9.0->sdv) (1.0.5)\n",
      "Requirement already satisfied: kiwisolver>=1.0.1 in c:\\users\\hp\\anaconda3\\lib\\site-packages (from matplotlib<4,>=3.6.0->copulas<0.10,>=0.9.0->sdv) (1.4.4)\n",
      "Requirement already satisfied: cycler>=0.10 in c:\\users\\hp\\anaconda3\\lib\\site-packages (from matplotlib<4,>=3.6.0->copulas<0.10,>=0.9.0->sdv) (0.11.0)\n",
      "Requirement already satisfied: tenacity>=6.2.0 in c:\\users\\hp\\anaconda3\\lib\\site-packages (from plotly<6,>=5.10.0->sdmetrics<0.12,>=0.11.0->sdv) (8.0.1)\n",
      "Requirement already satisfied: six>=1.5 in c:\\users\\hp\\anaconda3\\lib\\site-packages (from python-dateutil<3.0.0,>=2.1->botocore<2,>=1.18->sdv) (1.16.0)\n",
      "Requirement already satisfied: joblib>=1.1.1 in c:\\users\\hp\\anaconda3\\lib\\site-packages (from scikit-learn<2,>=1.1.3->ctgan<0.8,>=0.7.4->sdv) (1.1.1)\n",
      "Requirement already satisfied: threadpoolctl>=2.0.0 in c:\\users\\hp\\anaconda3\\lib\\site-packages (from scikit-learn<2,>=1.1.3->ctgan<0.8,>=0.7.4->sdv) (2.2.0)\n",
      "Requirement already satisfied: typing_extensions in c:\\users\\hp\\anaconda3\\lib\\site-packages (from torch>=1.11.0->ctgan<0.8,>=0.7.4->sdv) (4.8.0)\n",
      "Installing collected packages: plotly, graphviz, cloudpickle, Faker, botocore, s3transfer, rdt, deepecho, copulas, sdmetrics, ctgan, boto3, sdv\n",
      "  Attempting uninstall: plotly\n",
      "    Found existing installation: plotly 5.9.0\n",
      "    Uninstalling plotly-5.9.0:\n",
      "      Successfully uninstalled plotly-5.9.0\n",
      "  Attempting uninstall: cloudpickle\n",
      "    Found existing installation: cloudpickle 2.0.0\n",
      "    Uninstalling cloudpickle-2.0.0:\n",
      "      Successfully uninstalled cloudpickle-2.0.0\n",
      "Successfully installed Faker-14.2.1 boto3-1.28.72 botocore-1.31.72 cloudpickle-2.2.1 copulas-0.9.2 ctgan-0.7.5 deepecho-0.4.2 graphviz-0.20.1 plotly-5.18.0 rdt-1.7.0 s3transfer-0.7.0 sdmetrics-0.11.1 sdv-1.5.0\n"
     ]
    }
   ],
   "source": [
    "! pip install sdv"
   ]
  },
  {
   "cell_type": "code",
   "execution_count": 6,
   "id": "8b14a432",
   "metadata": {},
   "outputs": [
    {
     "name": "stdout",
     "output_type": "stream",
     "text": [
      "Collecting mpyc\n",
      "  Downloading mpyc-0.9-py3-none-any.whl (106 kB)\n",
      "     -------------------------------------- 106.4/106.4 kB 2.0 MB/s eta 0:00:00\n",
      "Installing collected packages: mpyc\n",
      "Successfully installed mpyc-0.9\n"
     ]
    }
   ],
   "source": [
    "! pip install mpyc"
   ]
  },
  {
   "cell_type": "code",
   "execution_count": 7,
   "id": "cc072027",
   "metadata": {},
   "outputs": [
    {
     "name": "stdout",
     "output_type": "stream",
     "text": [
      "Requirement already satisfied: torch in c:\\users\\hp\\anaconda3\\lib\\site-packages (1.12.1)\n",
      "Requirement already satisfied: typing_extensions in c:\\users\\hp\\anaconda3\\lib\\site-packages (from torch) (4.8.0)\n"
     ]
    }
   ],
   "source": [
    "! pip install torch"
   ]
  },
  {
   "cell_type": "code",
   "execution_count": 8,
   "id": "0bdf2587",
   "metadata": {},
   "outputs": [
    {
     "name": "stdout",
     "output_type": "stream",
     "text": [
      "Collecting torchvision\n",
      "  Downloading torchvision-0.16.0-cp310-cp310-win_amd64.whl (1.3 MB)\n",
      "     ---------------------------------------- 1.3/1.3 MB 5.0 MB/s eta 0:00:00\n",
      "Requirement already satisfied: requests in c:\\users\\hp\\anaconda3\\lib\\site-packages (from torchvision) (2.28.1)\n",
      "Collecting torch==2.1.0\n",
      "  Downloading torch-2.1.0-cp310-cp310-win_amd64.whl (192.3 MB)\n",
      "     -------------------------------------- 192.3/192.3 MB 9.0 MB/s eta 0:00:00\n",
      "Requirement already satisfied: pillow!=8.3.*,>=5.3.0 in c:\\users\\hp\\anaconda3\\lib\\site-packages (from torchvision) (9.4.0)\n",
      "Requirement already satisfied: numpy in c:\\users\\hp\\anaconda3\\lib\\site-packages (from torchvision) (1.23.5)\n",
      "Requirement already satisfied: typing-extensions in c:\\users\\hp\\anaconda3\\lib\\site-packages (from torch==2.1.0->torchvision) (4.8.0)\n",
      "Requirement already satisfied: sympy in c:\\users\\hp\\anaconda3\\lib\\site-packages (from torch==2.1.0->torchvision) (1.11.1)\n",
      "Requirement already satisfied: filelock in c:\\users\\hp\\anaconda3\\lib\\site-packages (from torch==2.1.0->torchvision) (3.9.0)\n",
      "Requirement already satisfied: jinja2 in c:\\users\\hp\\anaconda3\\lib\\site-packages (from torch==2.1.0->torchvision) (3.1.2)\n",
      "Requirement already satisfied: fsspec in c:\\users\\hp\\anaconda3\\lib\\site-packages (from torch==2.1.0->torchvision) (2022.11.0)\n",
      "Requirement already satisfied: networkx in c:\\users\\hp\\anaconda3\\lib\\site-packages (from torch==2.1.0->torchvision) (2.8.4)\n",
      "Requirement already satisfied: charset-normalizer<3,>=2 in c:\\users\\hp\\anaconda3\\lib\\site-packages (from requests->torchvision) (2.0.4)\n",
      "Requirement already satisfied: idna<4,>=2.5 in c:\\users\\hp\\anaconda3\\lib\\site-packages (from requests->torchvision) (3.4)\n",
      "Requirement already satisfied: certifi>=2017.4.17 in c:\\users\\hp\\anaconda3\\lib\\site-packages (from requests->torchvision) (2023.7.22)\n",
      "Requirement already satisfied: urllib3<1.27,>=1.21.1 in c:\\users\\hp\\anaconda3\\lib\\site-packages (from requests->torchvision) (1.26.14)\n",
      "Requirement already satisfied: MarkupSafe>=2.0 in c:\\users\\hp\\anaconda3\\lib\\site-packages (from jinja2->torch==2.1.0->torchvision) (2.1.1)\n",
      "Requirement already satisfied: mpmath>=0.19 in c:\\users\\hp\\anaconda3\\lib\\site-packages (from sympy->torch==2.1.0->torchvision) (1.2.1)\n",
      "Installing collected packages: torch, torchvision\n",
      "  Attempting uninstall: torch\n",
      "    Found existing installation: torch 1.12.1\n",
      "    Uninstalling torch-1.12.1:\n",
      "      Successfully uninstalled torch-1.12.1\n",
      "Successfully installed torch-2.1.0 torchvision-0.16.0\n"
     ]
    }
   ],
   "source": [
    "! pip install torchvision"
   ]
  },
  {
   "cell_type": "code",
   "execution_count": 9,
   "id": "2ef85d29",
   "metadata": {},
   "outputs": [
    {
     "name": "stdout",
     "output_type": "stream",
     "text": [
      " _   _  _____ \n",
      "| | | ||_   _|\n",
      "| | | |  | |  \n",
      "| |_| |  | |  \n",
      " \\___/   |_|  \n",
      "              \n",
      "\n"
     ]
    }
   ],
   "source": [
    "import art\n",
    "artwork = art.text2art(\"UT\")\n",
    "print(artwork)"
   ]
  },
  {
   "cell_type": "code",
   "execution_count": 10,
   "id": "826ec015",
   "metadata": {},
   "outputs": [
    {
     "name": "stdout",
     "output_type": "stream",
     "text": [
      "Requirement already satisfied: cryptography in c:\\users\\hp\\anaconda3\\lib\\site-packages (39.0.1)\n",
      "Requirement already satisfied: cffi>=1.12 in c:\\users\\hp\\anaconda3\\lib\\site-packages (from cryptography) (1.15.1)\n",
      "Requirement already satisfied: pycparser in c:\\users\\hp\\anaconda3\\lib\\site-packages (from cffi>=1.12->cryptography) (2.21)\n"
     ]
    }
   ],
   "source": [
    "! pip install cryptography"
   ]
  },
  {
   "cell_type": "code",
   "execution_count": 14,
   "id": "4aa00864",
   "metadata": {},
   "outputs": [
    {
     "name": "stdout",
     "output_type": "stream",
     "text": [
      "Requirement already satisfied: pandas==2.1.1 in c:\\users\\hp\\anaconda3\\lib\\site-packages (2.1.1)\n",
      "Requirement already satisfied: numpy>=1.22.4 in c:\\users\\hp\\anaconda3\\lib\\site-packages (from pandas==2.1.1) (1.23.5)\n",
      "Requirement already satisfied: pytz>=2020.1 in c:\\users\\hp\\anaconda3\\lib\\site-packages (from pandas==2.1.1) (2022.7)\n",
      "Requirement already satisfied: tzdata>=2022.1 in c:\\users\\hp\\anaconda3\\lib\\site-packages (from pandas==2.1.1) (2023.3)\n",
      "Requirement already satisfied: python-dateutil>=2.8.2 in c:\\users\\hp\\anaconda3\\lib\\site-packages (from pandas==2.1.1) (2.8.2)\n",
      "Requirement already satisfied: six>=1.5 in c:\\users\\hp\\anaconda3\\lib\\site-packages (from python-dateutil>=2.8.2->pandas==2.1.1) (1.16.0)\n"
     ]
    }
   ],
   "source": [
    "! pip install pandas==2.1.1"
   ]
  },
  {
   "cell_type": "code",
   "execution_count": 15,
   "id": "93d9ab9c",
   "metadata": {},
   "outputs": [
    {
     "name": "stdout",
     "output_type": "stream",
     "text": [
      "Requirement already satisfied: category-encoders==2.6.2 in c:\\users\\hp\\anaconda3\\lib\\site-packages (2.6.2)\n",
      "Requirement already satisfied: scikit-learn>=0.20.0 in c:\\users\\hp\\anaconda3\\lib\\site-packages (from category-encoders==2.6.2) (1.2.1)\n",
      "Requirement already satisfied: scipy>=1.0.0 in c:\\users\\hp\\anaconda3\\lib\\site-packages (from category-encoders==2.6.2) (1.10.0)\n",
      "Requirement already satisfied: pandas>=1.0.5 in c:\\users\\hp\\anaconda3\\lib\\site-packages (from category-encoders==2.6.2) (2.1.1)\n",
      "Requirement already satisfied: patsy>=0.5.1 in c:\\users\\hp\\anaconda3\\lib\\site-packages (from category-encoders==2.6.2) (0.5.3)\n",
      "Requirement already satisfied: numpy>=1.14.0 in c:\\users\\hp\\anaconda3\\lib\\site-packages (from category-encoders==2.6.2) (1.23.5)\n",
      "Requirement already satisfied: statsmodels>=0.9.0 in c:\\users\\hp\\anaconda3\\lib\\site-packages (from category-encoders==2.6.2) (0.13.5)\n",
      "Requirement already satisfied: tzdata>=2022.1 in c:\\users\\hp\\anaconda3\\lib\\site-packages (from pandas>=1.0.5->category-encoders==2.6.2) (2023.3)\n",
      "Requirement already satisfied: python-dateutil>=2.8.2 in c:\\users\\hp\\anaconda3\\lib\\site-packages (from pandas>=1.0.5->category-encoders==2.6.2) (2.8.2)\n",
      "Requirement already satisfied: pytz>=2020.1 in c:\\users\\hp\\anaconda3\\lib\\site-packages (from pandas>=1.0.5->category-encoders==2.6.2) (2022.7)\n",
      "Requirement already satisfied: six in c:\\users\\hp\\anaconda3\\lib\\site-packages (from patsy>=0.5.1->category-encoders==2.6.2) (1.16.0)\n",
      "Requirement already satisfied: threadpoolctl>=2.0.0 in c:\\users\\hp\\anaconda3\\lib\\site-packages (from scikit-learn>=0.20.0->category-encoders==2.6.2) (2.2.0)\n",
      "Requirement already satisfied: joblib>=1.1.1 in c:\\users\\hp\\anaconda3\\lib\\site-packages (from scikit-learn>=0.20.0->category-encoders==2.6.2) (1.1.1)\n",
      "Requirement already satisfied: packaging>=21.3 in c:\\users\\hp\\anaconda3\\lib\\site-packages (from statsmodels>=0.9.0->category-encoders==2.6.2) (22.0)\n"
     ]
    }
   ],
   "source": [
    "! pip install category-encoders==2.6.2"
   ]
  },
  {
   "cell_type": "code",
   "execution_count": 16,
   "id": "71dc233c",
   "metadata": {},
   "outputs": [
    {
     "name": "stdout",
     "output_type": "stream",
     "text": [
      "Collecting scikit-learn==1.3.1\n",
      "  Downloading scikit_learn-1.3.1-cp310-cp310-win_amd64.whl (9.3 MB)\n",
      "     ---------------------------------------- 9.3/9.3 MB 16.4 MB/s eta 0:00:00\n",
      "Requirement already satisfied: threadpoolctl>=2.0.0 in c:\\users\\hp\\anaconda3\\lib\\site-packages (from scikit-learn==1.3.1) (2.2.0)\n",
      "Requirement already satisfied: numpy<2.0,>=1.17.3 in c:\\users\\hp\\anaconda3\\lib\\site-packages (from scikit-learn==1.3.1) (1.23.5)\n",
      "Requirement already satisfied: scipy>=1.5.0 in c:\\users\\hp\\anaconda3\\lib\\site-packages (from scikit-learn==1.3.1) (1.10.0)\n",
      "Requirement already satisfied: joblib>=1.1.1 in c:\\users\\hp\\anaconda3\\lib\\site-packages (from scikit-learn==1.3.1) (1.1.1)\n",
      "Installing collected packages: scikit-learn\n",
      "  Attempting uninstall: scikit-learn\n",
      "    Found existing installation: scikit-learn 1.2.1\n",
      "    Uninstalling scikit-learn-1.2.1:\n",
      "      Successfully uninstalled scikit-learn-1.2.1\n"
     ]
    },
    {
     "name": "stderr",
     "output_type": "stream",
     "text": [
      "ERROR: Could not install packages due to an OSError: [WinError 5] Access is denied: 'C:\\\\Users\\\\hp\\\\anaconda3\\\\Lib\\\\site-packages\\\\~klearn\\\\decomposition\\\\_cdnmf_fast.cp310-win_amd64.pyd'\n",
      "Consider using the `--user` option or check the permissions.\n",
      "\n"
     ]
    }
   ],
   "source": [
    "! pip install scikit-learn==1.3.1"
   ]
  },
  {
   "cell_type": "code",
   "execution_count": null,
   "id": "c5b22d9a",
   "metadata": {},
   "outputs": [],
   "source": []
  }
 ],
 "metadata": {
  "kernelspec": {
   "display_name": "Python 3 (ipykernel)",
   "language": "python",
   "name": "python3"
  },
  "language_info": {
   "codemirror_mode": {
    "name": "ipython",
    "version": 3
   },
   "file_extension": ".py",
   "mimetype": "text/x-python",
   "name": "python",
   "nbconvert_exporter": "python",
   "pygments_lexer": "ipython3",
   "version": "3.10.9"
  }
 },
 "nbformat": 4,
 "nbformat_minor": 5
}
