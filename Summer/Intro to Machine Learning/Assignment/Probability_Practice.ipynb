{
 "cells": [
  {
   "cell_type": "markdown",
   "id": "3572bd85",
   "metadata": {},
   "source": [
    "## Probability practice\n",
    "\n",
    "__Part A.__ Visitors to your website are asked to answer a single survey question before they get access to the content on the page. Among all of the users, there are two categories: Random Clicker (RC), and Truthful Clicker (TC). There are two possible answers to the survey: yes and no. Random clickers would click either one with equal probability. You are also giving the information that the expected fraction of random clickers is 0.3.  After a trial period, you get the following survey results: 65\\% said Yes and 35\\% said No.   What fraction of people who are truthful clickers answered yes?  Hint: use the rule of total probability."
   ]
  },
  {
   "cell_type": "code",
   "execution_count": 2,
   "id": "b50076c7",
   "metadata": {},
   "outputs": [
    {
     "name": "stdout",
     "output_type": "stream",
     "text": [
      "Fraction of people who are truthful clickers answered yes is:  0.71\n"
     ]
    }
   ],
   "source": [
    "p_random_clickers = 0.3\n",
    "p_truthful_clickers = 0.7\n",
    "p_yes = 0.65\n",
    "p_yes_given_random_clicker = 0.5\n",
    "\n",
    "#p_yes = p_yes_given_random_clicker*p_random_clicker + p_yes_given_truthful_clickers*p_truthful_clickers\n",
    "\n",
    "p_yes_given_truthful_clickers = (p_yes - (p_yes_given_random_clicker*p_random_clickers) )/ p_truthful_clickers\n",
    "\n",
    "print(\"Fraction of people who are truthful clickers answered yes is: \",round(p_yes_given_truthful_clickers,2))"
   ]
  },
  {
   "cell_type": "markdown",
   "id": "bb1c31d0",
   "metadata": {},
   "source": [
    "__Part B.__ Imagine a medical test for a disease with the following two attributes:  \n",
    "\n",
    "- The sensitivity is about 0.993. That is, if someone has the disease, there is a probability of 0.993 that they will test positive.  \n",
    "- The specificity is about 0.9999. This means that if someone doesn't have the disease, there is probability of 0.9999 that they will test negative.  \n",
    "- In the general population, incidence of the disease is reasonably rare: about 0.0025% of all people have it (or 0.000025 as a decimal probability).\n",
    "\n",
    "Suppose someone tests positive. What is the probability that they have the disease?  \n"
   ]
  },
  {
   "cell_type": "code",
   "execution_count": 5,
   "id": "cc3c4e55",
   "metadata": {},
   "outputs": [
    {
     "name": "stdout",
     "output_type": "stream",
     "text": [
      "Probability of having the disease given that the test is positive: 0.199\n"
     ]
    }
   ],
   "source": [
    "sensitivity = 0.993\n",
    "specificity= 0.9999\n",
    "p_disease = 0.000025\n",
    "\n",
    "false_positive_rate = 1 - specificity\n",
    "p_no_disease = 1-p_disease\n",
    "\n",
    "p_postive_test = (sensitivity*p_disease) + (false_positive_rate*p_no_disease)\n",
    "\n",
    "p_disease_given_test_positive = (sensitivity*p_disease)/p_postive_test\n",
    "\n",
    "print(\"Probability of having the disease given that the test is positive:\", round(p_disease_given_test_positive,3))"
   ]
  }
 ],
 "metadata": {
  "interpreter": {
   "hash": "4192be43242531938aa43d15ff75883f6279f74c31059086943e3d95566729b4"
  },
  "kernelspec": {
   "display_name": "Python 3 (ipykernel)",
   "language": "python",
   "name": "python3"
  },
  "language_info": {
   "codemirror_mode": {
    "name": "ipython",
    "version": 3
   },
   "file_extension": ".py",
   "mimetype": "text/x-python",
   "name": "python",
   "nbconvert_exporter": "python",
   "pygments_lexer": "ipython3",
   "version": "3.10.9"
  }
 },
 "nbformat": 4,
 "nbformat_minor": 5
}
