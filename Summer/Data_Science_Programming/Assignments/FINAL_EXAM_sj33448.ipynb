{
 "cells": [
  {
   "cell_type": "code",
   "execution_count": 1,
   "id": "94c42efc",
   "metadata": {},
   "outputs": [
    {
     "name": "stdout",
     "output_type": "stream",
     "text": [
      "Populating the interactive namespace from numpy and matplotlib\n"
     ]
    }
   ],
   "source": [
    "import pandas as pd\n",
    "from pandas import Series, DataFrame\n",
    "%pylab inline"
   ]
  },
  {
   "cell_type": "markdown",
   "id": "dea8caa6",
   "metadata": {},
   "source": [
    "---\n",
    "\n",
    "The exam is structured as follows:\n",
    "* Q1: Conceptual questions about machine learning $\\Rightarrow$ 12 points\n",
    "* Q2-Q13: Pandas questions $\\Rightarrow$ 76 points\n",
    "* Q14: Classification coding questions $\\Rightarrow$ 12 points\n",
    "\n",
    "---\n",
    "\n",
    "### [Q1 6$\\times$2=12 points]\n",
    "\n",
    "Suppose you have points of two classes (white versus solid) laid out in a 2-dimensional feature space as shown below.\n",
    "Each box contains the same number of points.\n",
    "\n",
    "![diamonds2](diamonds2.png)"
   ]
  },
  {
   "cell_type": "markdown",
   "id": "1bcec6cd",
   "metadata": {},
   "source": [
    "(a) What is the baseline accuracy on this dataset?"
   ]
  },
  {
   "cell_type": "markdown",
   "id": "1f2cb2bd",
   "metadata": {},
   "source": [
    "== FILL IN ==\n",
    "Accuracy = 54.54%"
   ]
  },
  {
   "cell_type": "markdown",
   "id": "626f23e6",
   "metadata": {},
   "source": [
    "(b) What is the accuracy of a depth-1 decision tree?"
   ]
  },
  {
   "cell_type": "markdown",
   "id": "e8afff45",
   "metadata": {},
   "source": [
    "== FILL IN ==\n",
    "Accuracy = 54.54%"
   ]
  },
  {
   "cell_type": "markdown",
   "id": "00d1a0de",
   "metadata": {},
   "source": [
    "(c) What is the accuracy of a depth-2 decision tree?"
   ]
  },
  {
   "cell_type": "markdown",
   "id": "94a73b46",
   "metadata": {},
   "source": [
    "== FILL IN ==\n",
    "Accuracy = 63.63%"
   ]
  },
  {
   "cell_type": "markdown",
   "id": "856de954",
   "metadata": {},
   "source": [
    "(d) What is the accuracy of logistic regression?"
   ]
  },
  {
   "cell_type": "markdown",
   "id": "6277881f",
   "metadata": {},
   "source": [
    "== FILL IN ==\n",
    "Accuracy = 72.72%"
   ]
  },
  {
   "cell_type": "markdown",
   "id": "350cb564",
   "metadata": {},
   "source": [
    "Now consider the following dataset.\n",
    "![diamonds](diamonds.png)"
   ]
  },
  {
   "cell_type": "markdown",
   "id": "61b54032",
   "metadata": {},
   "source": [
    "(e) What is the best accuracy that can be achieved by a depth-1 decision tree?"
   ]
  },
  {
   "cell_type": "markdown",
   "id": "f7cf5058",
   "metadata": {},
   "source": [
    "== FILL IN ==\n",
    "Accuracy = 63.63%"
   ]
  },
  {
   "cell_type": "markdown",
   "id": "9ee09fe8",
   "metadata": {},
   "source": [
    "(f)  What is the best accuracy achievable by a depth-2 decision tree?"
   ]
  },
  {
   "cell_type": "markdown",
   "id": "d0c0be29",
   "metadata": {},
   "source": [
    "== FILL IN ==\n",
    "Accuracy = 90.9%"
   ]
  },
  {
   "cell_type": "markdown",
   "id": "3e8b3262",
   "metadata": {},
   "source": [
    "--- \n",
    "We will work with a dataset of sales of wine/beer/etc. from the file *Warehouse_and_Retail_Sales.csv*.\n",
    "\n",
    "### [Q2 3 points] Load in the file and print the first five rows."
   ]
  },
  {
   "cell_type": "code",
   "execution_count": 3,
   "id": "1589c210",
   "metadata": {},
   "outputs": [
    {
     "data": {
      "text/html": [
       "<div>\n",
       "<style scoped>\n",
       "    .dataframe tbody tr th:only-of-type {\n",
       "        vertical-align: middle;\n",
       "    }\n",
       "\n",
       "    .dataframe tbody tr th {\n",
       "        vertical-align: top;\n",
       "    }\n",
       "\n",
       "    .dataframe thead th {\n",
       "        text-align: right;\n",
       "    }\n",
       "</style>\n",
       "<table border=\"1\" class=\"dataframe\">\n",
       "  <thead>\n",
       "    <tr style=\"text-align: right;\">\n",
       "      <th></th>\n",
       "      <th>YEAR</th>\n",
       "      <th>MONTH</th>\n",
       "      <th>SUPPLIER</th>\n",
       "      <th>ITEM CODE</th>\n",
       "      <th>ITEM DESCRIPTION</th>\n",
       "      <th>ITEM TYPE</th>\n",
       "      <th>RETAIL SALES</th>\n",
       "      <th>RETAIL TRANSFERS</th>\n",
       "      <th>WAREHOUSE SALES</th>\n",
       "    </tr>\n",
       "  </thead>\n",
       "  <tbody>\n",
       "    <tr>\n",
       "      <th>0</th>\n",
       "      <td>2020</td>\n",
       "      <td>1</td>\n",
       "      <td>REPUBLIC NATIONAL DISTRIBUTING CO</td>\n",
       "      <td>100009</td>\n",
       "      <td>BOOTLEG RED - 750ML</td>\n",
       "      <td>WINE</td>\n",
       "      <td>0.00</td>\n",
       "      <td>0.0</td>\n",
       "      <td>2.0</td>\n",
       "    </tr>\n",
       "    <tr>\n",
       "      <th>1</th>\n",
       "      <td>2020</td>\n",
       "      <td>1</td>\n",
       "      <td>PWSWN INC</td>\n",
       "      <td>100024</td>\n",
       "      <td>MOMENT DE PLAISIR - 750ML</td>\n",
       "      <td>WINE</td>\n",
       "      <td>0.00</td>\n",
       "      <td>1.0</td>\n",
       "      <td>4.0</td>\n",
       "    </tr>\n",
       "    <tr>\n",
       "      <th>2</th>\n",
       "      <td>2020</td>\n",
       "      <td>1</td>\n",
       "      <td>RELIABLE CHURCHILL LLLP</td>\n",
       "      <td>1001</td>\n",
       "      <td>S SMITH ORGANIC PEAR CIDER - 18.7OZ</td>\n",
       "      <td>BEER</td>\n",
       "      <td>0.00</td>\n",
       "      <td>0.0</td>\n",
       "      <td>1.0</td>\n",
       "    </tr>\n",
       "    <tr>\n",
       "      <th>3</th>\n",
       "      <td>2020</td>\n",
       "      <td>1</td>\n",
       "      <td>LANTERNA DISTRIBUTORS INC</td>\n",
       "      <td>100145</td>\n",
       "      <td>SCHLINK HAUS KABINETT - 750ML</td>\n",
       "      <td>WINE</td>\n",
       "      <td>0.00</td>\n",
       "      <td>0.0</td>\n",
       "      <td>1.0</td>\n",
       "    </tr>\n",
       "    <tr>\n",
       "      <th>4</th>\n",
       "      <td>2020</td>\n",
       "      <td>1</td>\n",
       "      <td>DIONYSOS IMPORTS INC</td>\n",
       "      <td>100293</td>\n",
       "      <td>SANTORINI GAVALA WHITE - 750ML</td>\n",
       "      <td>WINE</td>\n",
       "      <td>0.82</td>\n",
       "      <td>0.0</td>\n",
       "      <td>0.0</td>\n",
       "    </tr>\n",
       "  </tbody>\n",
       "</table>\n",
       "</div>"
      ],
      "text/plain": [
       "   YEAR  MONTH                           SUPPLIER ITEM CODE  \\\n",
       "0  2020      1  REPUBLIC NATIONAL DISTRIBUTING CO    100009   \n",
       "1  2020      1                          PWSWN INC    100024   \n",
       "2  2020      1            RELIABLE CHURCHILL LLLP      1001   \n",
       "3  2020      1          LANTERNA DISTRIBUTORS INC    100145   \n",
       "4  2020      1               DIONYSOS IMPORTS INC    100293   \n",
       "\n",
       "                      ITEM DESCRIPTION ITEM TYPE  RETAIL SALES  \\\n",
       "0                  BOOTLEG RED - 750ML      WINE          0.00   \n",
       "1            MOMENT DE PLAISIR - 750ML      WINE          0.00   \n",
       "2  S SMITH ORGANIC PEAR CIDER - 18.7OZ      BEER          0.00   \n",
       "3        SCHLINK HAUS KABINETT - 750ML      WINE          0.00   \n",
       "4       SANTORINI GAVALA WHITE - 750ML      WINE          0.82   \n",
       "\n",
       "   RETAIL TRANSFERS  WAREHOUSE SALES  \n",
       "0               0.0              2.0  \n",
       "1               1.0              4.0  \n",
       "2               0.0              1.0  \n",
       "3               0.0              1.0  \n",
       "4               0.0              0.0  "
      ]
     },
     "execution_count": 3,
     "metadata": {},
     "output_type": "execute_result"
    }
   ],
   "source": [
    "import pandas as pd\n",
    "df = pd.read_csv('Warehouse_and_Retail_Sales.csv')\n",
    "df.head(5)"
   ]
  },
  {
   "cell_type": "code",
   "execution_count": 4,
   "id": "d375847d",
   "metadata": {},
   "outputs": [
    {
     "name": "stdout",
     "output_type": "stream",
     "text": [
      "   YEAR  MONTH                           SUPPLIER ITEM CODE  \\\n",
      "0  2020      1  REPUBLIC NATIONAL DISTRIBUTING CO    100009   \n",
      "1  2020      1                          PWSWN INC    100024   \n",
      "2  2020      1            RELIABLE CHURCHILL LLLP      1001   \n",
      "3  2020      1          LANTERNA DISTRIBUTORS INC    100145   \n",
      "4  2020      1               DIONYSOS IMPORTS INC    100293   \n",
      "\n",
      "                      ITEM DESCRIPTION ITEM TYPE  RETAIL SALES  \\\n",
      "0                  BOOTLEG RED - 750ML      WINE          0.00   \n",
      "1            MOMENT DE PLAISIR - 750ML      WINE          0.00   \n",
      "2  S SMITH ORGANIC PEAR CIDER - 18.7OZ      BEER          0.00   \n",
      "3        SCHLINK HAUS KABINETT - 750ML      WINE          0.00   \n",
      "4       SANTORINI GAVALA WHITE - 750ML      WINE          0.82   \n",
      "\n",
      "   RETAIL TRANSFERS  WAREHOUSE SALES  \n",
      "0               0.0              2.0  \n",
      "1               1.0              4.0  \n",
      "2               0.0              1.0  \n",
      "3               0.0              1.0  \n",
      "4               0.0              0.0  \n"
     ]
    }
   ],
   "source": [
    "print(df.head(5))"
   ]
  },
  {
   "cell_type": "markdown",
   "id": "19568dfc",
   "metadata": {},
   "source": [
    "### [Q3 5 points] Plot the top-10 SUPPLIERs\n",
    "\n",
    "Show a bar plot where the x-axis lists the top-10 SUPPLIERS, and y-axis is the number of rows with these SUPPLIERs."
   ]
  },
  {
   "cell_type": "code",
   "execution_count": 5,
   "id": "4f0973b0",
   "metadata": {},
   "outputs": [],
   "source": [
    "suppliers_series = df['SUPPLIER'].value_counts()"
   ]
  },
  {
   "cell_type": "code",
   "execution_count": 9,
   "id": "128df107",
   "metadata": {},
   "outputs": [
    {
     "data": {
      "text/plain": [
       "<Axes: >"
      ]
     },
     "execution_count": 9,
     "metadata": {},
     "output_type": "execute_result"
    },
    {
     "data": {
      "image/png": "[encoded data removed]",
      "text/plain": [
       "<Figure size 640x480 with 1 Axes>"
      ]
     },
     "metadata": {},
     "output_type": "display_data"
    }
   ],
   "source": [
    "suppliers_series[:10].plot(kind = 'bar')"
   ]
  },
  {
   "cell_type": "markdown",
   "id": "eff67995",
   "metadata": {},
   "source": [
    "### [Q4 5 points] Missing SUPPLIERs\n",
    "\n",
    "Consider only the rows where the SUPPLIER is missing.\n",
    "Among these rows, what are the 3 most frequent ITEM DESCRIPTIONs?"
   ]
  },
  {
   "cell_type": "code",
   "execution_count": 22,
   "id": "d459e854",
   "metadata": {},
   "outputs": [],
   "source": [
    "missing_supply = df['SUPPLIER'].isna()"
   ]
  },
  {
   "cell_type": "code",
   "execution_count": 24,
   "id": "e81bb720",
   "metadata": {},
   "outputs": [
    {
     "data": {
      "text/plain": [
       "WINE CREDIT              24\n",
       "EMPTY WINE KEG - KEGS    23\n",
       "BEER CREDIT              23\n",
       "Name: ITEM DESCRIPTION, dtype: int64"
      ]
     },
     "execution_count": 24,
     "metadata": {},
     "output_type": "execute_result"
    }
   ],
   "source": [
    "df[missing_supply]['ITEM DESCRIPTION'].value_counts()[:3]"
   ]
  },
  {
   "cell_type": "markdown",
   "id": "4e890c07",
   "metadata": {},
   "source": [
    "### [Q5 5 points] Plot a histogram of ITEM CODE frequencies.\n",
    "\n",
    "* The frequency of an ITEM CODE is the number of rows in which the ITEM CODE occurs.\n",
    "* The x-axis of the historgram should be (bins of) frequency, and the y-axis is the number of ITEM CODEs whose frequency falls in that bin."
   ]
  },
  {
   "cell_type": "code",
   "execution_count": 96,
   "id": "260a02e3",
   "metadata": {},
   "outputs": [
    {
     "data": {
      "image/png": "[encoded data removed]",
      "text/plain": [
       "<Figure size 640x480 with 1 Axes>"
      ]
     },
     "metadata": {},
     "output_type": "display_data"
    }
   ],
   "source": [
    "item_code_series = df['ITEM CODE'].value_counts()\n",
    "item_code_series = item_code_series.to_frame()\n",
    "item_code_series.reset_index(inplace = True)\n",
    "item_code_series.rename(columns={\"index\": \"ITEM CODE\", \"ITEM CODE\": \"Freq\"} , inplace = True)\n",
    "\n",
    "\n",
    "item_code_series.plot.hist(y='Freq', bins=10)\n",
    "plt.xlabel('Frequency')\n",
    "plt.ylabel('Number of ITEM CODEs')\n",
    "plt.show()"
   ]
  },
  {
   "cell_type": "markdown",
   "id": "9b1af8f0",
   "metadata": {},
   "source": [
    "### [Q6 5 points] Popular sizes\n",
    "\n",
    "* The last word of each ITEM DESCRIPTION lists the size of the item.\n",
    "    * For example, \"BOOTLEG RED - 750ML\" has a size of \"750ML\"\n",
    "    * Sometimes, it may be \"750ml\" instead of \"750ML\". Convert all last-word strings to lowercase for the next step.\n",
    "* Find the top-5 most frequently occurring sizes, and plot their frequencies."
   ]
  },
  {
   "cell_type": "code",
   "execution_count": 50,
   "id": "41bd6ac5",
   "metadata": {},
   "outputs": [
    {
     "data": {
      "text/html": [
       "<div>\n",
       "<style scoped>\n",
       "    .dataframe tbody tr th:only-of-type {\n",
       "        vertical-align: middle;\n",
       "    }\n",
       "\n",
       "    .dataframe tbody tr th {\n",
       "        vertical-align: top;\n",
       "    }\n",
       "\n",
       "    .dataframe thead th {\n",
       "        text-align: right;\n",
       "    }\n",
       "</style>\n",
       "<table border=\"1\" class=\"dataframe\">\n",
       "  <thead>\n",
       "    <tr style=\"text-align: right;\">\n",
       "      <th></th>\n",
       "      <th>YEAR</th>\n",
       "      <th>MONTH</th>\n",
       "      <th>SUPPLIER</th>\n",
       "      <th>ITEM CODE</th>\n",
       "      <th>ITEM DESCRIPTION</th>\n",
       "      <th>ITEM TYPE</th>\n",
       "      <th>RETAIL SALES</th>\n",
       "      <th>RETAIL TRANSFERS</th>\n",
       "      <th>WAREHOUSE SALES</th>\n",
       "    </tr>\n",
       "  </thead>\n",
       "  <tbody>\n",
       "    <tr>\n",
       "      <th>0</th>\n",
       "      <td>2020</td>\n",
       "      <td>1</td>\n",
       "      <td>REPUBLIC NATIONAL DISTRIBUTING CO</td>\n",
       "      <td>100009</td>\n",
       "      <td>BOOTLEG RED - 750ML</td>\n",
       "      <td>WINE</td>\n",
       "      <td>0.00</td>\n",
       "      <td>0.0</td>\n",
       "      <td>2.0</td>\n",
       "    </tr>\n",
       "    <tr>\n",
       "      <th>1</th>\n",
       "      <td>2020</td>\n",
       "      <td>1</td>\n",
       "      <td>PWSWN INC</td>\n",
       "      <td>100024</td>\n",
       "      <td>MOMENT DE PLAISIR - 750ML</td>\n",
       "      <td>WINE</td>\n",
       "      <td>0.00</td>\n",
       "      <td>1.0</td>\n",
       "      <td>4.0</td>\n",
       "    </tr>\n",
       "    <tr>\n",
       "      <th>2</th>\n",
       "      <td>2020</td>\n",
       "      <td>1</td>\n",
       "      <td>RELIABLE CHURCHILL LLLP</td>\n",
       "      <td>1001</td>\n",
       "      <td>S SMITH ORGANIC PEAR CIDER - 18.7OZ</td>\n",
       "      <td>BEER</td>\n",
       "      <td>0.00</td>\n",
       "      <td>0.0</td>\n",
       "      <td>1.0</td>\n",
       "    </tr>\n",
       "    <tr>\n",
       "      <th>3</th>\n",
       "      <td>2020</td>\n",
       "      <td>1</td>\n",
       "      <td>LANTERNA DISTRIBUTORS INC</td>\n",
       "      <td>100145</td>\n",
       "      <td>SCHLINK HAUS KABINETT - 750ML</td>\n",
       "      <td>WINE</td>\n",
       "      <td>0.00</td>\n",
       "      <td>0.0</td>\n",
       "      <td>1.0</td>\n",
       "    </tr>\n",
       "    <tr>\n",
       "      <th>4</th>\n",
       "      <td>2020</td>\n",
       "      <td>1</td>\n",
       "      <td>DIONYSOS IMPORTS INC</td>\n",
       "      <td>100293</td>\n",
       "      <td>SANTORINI GAVALA WHITE - 750ML</td>\n",
       "      <td>WINE</td>\n",
       "      <td>0.82</td>\n",
       "      <td>0.0</td>\n",
       "      <td>0.0</td>\n",
       "    </tr>\n",
       "  </tbody>\n",
       "</table>\n",
       "</div>"
      ],
      "text/plain": [
       "   YEAR  MONTH                           SUPPLIER ITEM CODE  \\\n",
       "0  2020      1  REPUBLIC NATIONAL DISTRIBUTING CO    100009   \n",
       "1  2020      1                          PWSWN INC    100024   \n",
       "2  2020      1            RELIABLE CHURCHILL LLLP      1001   \n",
       "3  2020      1          LANTERNA DISTRIBUTORS INC    100145   \n",
       "4  2020      1               DIONYSOS IMPORTS INC    100293   \n",
       "\n",
       "                      ITEM DESCRIPTION ITEM TYPE  RETAIL SALES  \\\n",
       "0                  BOOTLEG RED - 750ML      WINE          0.00   \n",
       "1            MOMENT DE PLAISIR - 750ML      WINE          0.00   \n",
       "2  S SMITH ORGANIC PEAR CIDER - 18.7OZ      BEER          0.00   \n",
       "3        SCHLINK HAUS KABINETT - 750ML      WINE          0.00   \n",
       "4       SANTORINI GAVALA WHITE - 750ML      WINE          0.82   \n",
       "\n",
       "   RETAIL TRANSFERS  WAREHOUSE SALES  \n",
       "0               0.0              2.0  \n",
       "1               1.0              4.0  \n",
       "2               0.0              1.0  \n",
       "3               0.0              1.0  \n",
       "4               0.0              0.0  "
      ]
     },
     "execution_count": 50,
     "metadata": {},
     "output_type": "execute_result"
    }
   ],
   "source": [
    "df.head(5)"
   ]
  },
  {
   "cell_type": "code",
   "execution_count": 54,
   "id": "7a94a231",
   "metadata": {},
   "outputs": [
    {
     "name": "stdout",
     "output_type": "stream",
     "text": [
      "750ml\n"
     ]
    },
    {
     "data": {
      "text/plain": [
       "<Axes: >"
      ]
     },
     "execution_count": 54,
     "metadata": {},
     "output_type": "execute_result"
    },
    {
     "data": {
      "image/png": "[encoded data removed]",
      "text/plain": [
       "<Figure size 640x480 with 1 Axes>"
      ]
     },
     "metadata": {},
     "output_type": "display_data"
    }
   ],
   "source": [
    "def last_element(x):\n",
    "    aa = x.split(' - ')\n",
    "    return aa[-1].lower()\n",
    "\n",
    "print(last_element('MOMENT DE PLAISIR - 750ML'))\n",
    "    \n",
    "df['ITEM DESCRIPTION'].map(last_element).value_counts()[:5].plot(kind=\"bar\")"
   ]
  },
  {
   "cell_type": "markdown",
   "id": "de632f3f",
   "metadata": {},
   "source": [
    "### [Q7 5 points] Plot the top-10 most varied SUPPLIERs\n",
    "\n",
    "* For each SUPPLIER, figure out the number of unique ITEM DESCRIPTIONs that they sell.\n",
    "* Find the top-10 SUPPLIERs that sell the most unique items.\n",
    "* Show a bar plot of these top-10 SUPPLIERs on the x-axis, and the number of unique items they sell on the y-axis."
   ]
  },
  {
   "cell_type": "code",
   "execution_count": 55,
   "id": "0e25cc07",
   "metadata": {},
   "outputs": [
    {
     "data": {
      "text/plain": [
       "<Axes: >"
      ]
     },
     "execution_count": 55,
     "metadata": {},
     "output_type": "execute_result"
    },
    {
     "data": {
      "image/png": "[encoded data removed]",
      "text/plain": [
       "<Figure size 640x480 with 1 Axes>"
      ]
     },
     "metadata": {},
     "output_type": "display_data"
    }
   ],
   "source": [
    "df2 = df[['SUPPLIER','ITEM DESCRIPTION']].copy().drop_duplicates()\n",
    "\n",
    "df2['SUPPLIER'].value_counts()[:10].plot(kind = 'bar')"
   ]
  },
  {
   "cell_type": "markdown",
   "id": "3aa6f305",
   "metadata": {},
   "source": [
    "### [Q8 8 points] How many SUPPLIERs show up in every MONTH of every YEAR?\n",
    "\n",
    "The data shows sales for several different months and years. Find the suppliers who appear throughout this time period."
   ]
  },
  {
   "cell_type": "code",
   "execution_count": 113,
   "id": "997435d9",
   "metadata": {},
   "outputs": [
    {
     "name": "stdout",
     "output_type": "stream",
     "text": [
      "187\n"
     ]
    }
   ],
   "source": [
    "df3 = df[['YEAR','MONTH','SUPPLIER']].copy().drop_duplicates()\n",
    "no_of_months = len(df[['YEAR','MONTH']].drop_duplicates())\n",
    "supp_count = df3['SUPPLIER'].value_counts()\n",
    "print((supp_count ==no_of_months).sum())"
   ]
  },
  {
   "cell_type": "code",
   "execution_count": 125,
   "id": "e20fb8c5",
   "metadata": {},
   "outputs": [
    {
     "data": {
      "text/plain": [
       "REPUBLIC NATIONAL DISTRIBUTING CO    24\n",
       "E M D SALES INC                      24\n",
       "MASS BAY BREWING CO                  24\n",
       "C MONDAVI & SONS                     24\n",
       "NICHE IMPORTERS                      24\n",
       "                                     ..\n",
       "SALVETO IMPORTS LLC                  24\n",
       "DELMAR BREWING COMPANY LLC           24\n",
       "UNITED STATES DISTILLED PRODUCTS     24\n",
       "GRAPES OF SPAIN INC                  24\n",
       "DEUTSCH FAMILY WINE & SPIRITS        24\n",
       "Name: SUPPLIER, Length: 187, dtype: int64"
      ]
     },
     "execution_count": 125,
     "metadata": {},
     "output_type": "execute_result"
    }
   ],
   "source": [
    "supp_count[supp_count ==no_of_months ].head(187)"
   ]
  },
  {
   "cell_type": "markdown",
   "id": "196d051d",
   "metadata": {},
   "source": [
    "### [Q9 8 points] Substitutable Suppliers\n",
    "\n",
    "We will say that two SUPPLIERS \"interact\" in some (YEAR, MONTH) if there is some ITEM DESCRIPTION sold by both of them in that month and year.\n",
    "\n",
    "* The number of interactions between two suppliers is the total number of (YEAR, MONTH) pairs where they have any such interaction.\n",
    "    * For example, if suppliers ABC and XYZ both sell \"BOOTLEG RED - 750ML\" in month 1 of year 2020, then this counts as one interaction between ABC and XYZ. We say ABC and XYZ interacted in month 1 of 2020.\n",
    "    * If ABC and XYZ both sold multiple items (say, \"BOOTLEG RED - 750ML\" and \"MOMENT DE PLAISIR - 750ML\") in month 1 of 2020, it still counts as one interaction. We still say ABC and XYZ interacted in month 1 of 2020.\n",
    "    * If they both sold \"BOOTLEG RED\" in month 1 of 2020 and month 5 of 2022, that is two interactions.\n",
    "    \n",
    "Print out the top 4 pairs of SUPPLIERS with the most interactions."
   ]
  },
  {
   "cell_type": "code",
   "execution_count": 129,
   "id": "683c5613",
   "metadata": {},
   "outputs": [
    {
     "name": "stdout",
     "output_type": "stream",
     "text": [
      "(SUTTER HOME WINERY INC, REPUBLIC NATIONAL DISTRIBUTING CO)         13\n",
      "(CONSTANTINE WINES INC, OPICI FAMILY DISTRIBUTING OF MD)             7\n",
      "(GROTH VINEYARDS & WINERY, THE COUNTRY VINTNER, LLC DBA WINEBOW)     6\n",
      "(DMV DISTRIBUTING LLC, TRI-VIN IMPORTS)                              5\n",
      "dtype: int64\n"
     ]
    }
   ],
   "source": [
    "df5 = df.groupby(['YEAR', 'MONTH', 'ITEM DESCRIPTION'])['SUPPLIER'].unique()\n",
    "\n",
    "# Get all interactions for each group\n",
    "inter = []\n",
    "for supp in df5:\n",
    "    n = len(supp)\n",
    "    for i in range(n):\n",
    "        for j in range(i+1, n):\n",
    "            inter.append((supp[i], supp[j]))\n",
    "\n",
    "# Count interactions\n",
    "inter_cnt = pd.Series(inter).value_counts()\n",
    "\n",
    "# Print top 4 pairs\n",
    "print(inter_cnt.head(4))"
   ]
  },
  {
   "cell_type": "markdown",
   "id": "df714a55",
   "metadata": {},
   "source": [
    "### [Q10 8 points] Big Suppliers\n",
    "\n",
    "* For each SUPPLIER, calculate the total RETAIL SALES, WAREHOUSE SALES, and the sum of these two.\n",
    "* Find the top-10 SUPPLIERS based on sum of the two.\n",
    "* For these suppliers, print out whether RETAIL SALES is higher or WAREHOUSE SALES is higher."
   ]
  },
  {
   "cell_type": "code",
   "execution_count": 134,
   "id": "a017803c",
   "metadata": {},
   "outputs": [
    {
     "data": {
      "text/html": [
       "<div>\n",
       "<style scoped>\n",
       "    .dataframe tbody tr th:only-of-type {\n",
       "        vertical-align: middle;\n",
       "    }\n",
       "\n",
       "    .dataframe tbody tr th {\n",
       "        vertical-align: top;\n",
       "    }\n",
       "\n",
       "    .dataframe thead th {\n",
       "        text-align: right;\n",
       "    }\n",
       "</style>\n",
       "<table border=\"1\" class=\"dataframe\">\n",
       "  <thead>\n",
       "    <tr style=\"text-align: right;\">\n",
       "      <th></th>\n",
       "      <th>RETAIL SALES</th>\n",
       "      <th>WAREHOUSE SALES</th>\n",
       "      <th>SUM SALES</th>\n",
       "      <th>HIGHER SALES</th>\n",
       "    </tr>\n",
       "    <tr>\n",
       "      <th>SUPPLIER</th>\n",
       "      <th></th>\n",
       "      <th></th>\n",
       "      <th></th>\n",
       "      <th></th>\n",
       "    </tr>\n",
       "  </thead>\n",
       "  <tbody>\n",
       "    <tr>\n",
       "      <th>CROWN IMPORTS</th>\n",
       "      <td>84437.66</td>\n",
       "      <td>1651871.51</td>\n",
       "      <td>1736309.17</td>\n",
       "      <td>WAREHOUSE</td>\n",
       "    </tr>\n",
       "    <tr>\n",
       "      <th>MILLER BREWING COMPANY</th>\n",
       "      <td>87156.44</td>\n",
       "      <td>1425428.71</td>\n",
       "      <td>1512585.15</td>\n",
       "      <td>WAREHOUSE</td>\n",
       "    </tr>\n",
       "    <tr>\n",
       "      <th>ANHEUSER BUSCH INC</th>\n",
       "      <td>109960.82</td>\n",
       "      <td>1331170.84</td>\n",
       "      <td>1441131.66</td>\n",
       "      <td>WAREHOUSE</td>\n",
       "    </tr>\n",
       "    <tr>\n",
       "      <th>HEINEKEN USA</th>\n",
       "      <td>56139.91</td>\n",
       "      <td>829796.46</td>\n",
       "      <td>885936.37</td>\n",
       "      <td>WAREHOUSE</td>\n",
       "    </tr>\n",
       "    <tr>\n",
       "      <th>E &amp; J GALLO WINERY</th>\n",
       "      <td>166170.53</td>\n",
       "      <td>197463.78</td>\n",
       "      <td>363634.31</td>\n",
       "      <td>WAREHOUSE</td>\n",
       "    </tr>\n",
       "    <tr>\n",
       "      <th>DIAGEO NORTH AMERICA INC</th>\n",
       "      <td>145343.20</td>\n",
       "      <td>170564.63</td>\n",
       "      <td>315907.83</td>\n",
       "      <td>WAREHOUSE</td>\n",
       "    </tr>\n",
       "    <tr>\n",
       "      <th>CONSTELLATION BRANDS</th>\n",
       "      <td>131664.79</td>\n",
       "      <td>119399.51</td>\n",
       "      <td>251064.30</td>\n",
       "      <td>RETAIL</td>\n",
       "    </tr>\n",
       "    <tr>\n",
       "      <th>BOSTON BEER CORPORATION</th>\n",
       "      <td>40129.13</td>\n",
       "      <td>191592.89</td>\n",
       "      <td>231722.02</td>\n",
       "      <td>WAREHOUSE</td>\n",
       "    </tr>\n",
       "    <tr>\n",
       "      <th>YUENGLING BREWERY</th>\n",
       "      <td>23027.70</td>\n",
       "      <td>134147.86</td>\n",
       "      <td>157175.56</td>\n",
       "      <td>WAREHOUSE</td>\n",
       "    </tr>\n",
       "    <tr>\n",
       "      <th>FLYING DOG BREWERY LLLP</th>\n",
       "      <td>26358.55</td>\n",
       "      <td>128292.49</td>\n",
       "      <td>154651.04</td>\n",
       "      <td>WAREHOUSE</td>\n",
       "    </tr>\n",
       "  </tbody>\n",
       "</table>\n",
       "</div>"
      ],
      "text/plain": [
       "                          RETAIL SALES  WAREHOUSE SALES   SUM SALES  \\\n",
       "SUPPLIER                                                              \n",
       "CROWN IMPORTS                 84437.66       1651871.51  1736309.17   \n",
       "MILLER BREWING COMPANY        87156.44       1425428.71  1512585.15   \n",
       "ANHEUSER BUSCH INC           109960.82       1331170.84  1441131.66   \n",
       "HEINEKEN USA                  56139.91        829796.46   885936.37   \n",
       "E & J GALLO WINERY           166170.53        197463.78   363634.31   \n",
       "DIAGEO NORTH AMERICA INC     145343.20        170564.63   315907.83   \n",
       "CONSTELLATION BRANDS         131664.79        119399.51   251064.30   \n",
       "BOSTON BEER CORPORATION       40129.13        191592.89   231722.02   \n",
       "YUENGLING BREWERY             23027.70        134147.86   157175.56   \n",
       "FLYING DOG BREWERY LLLP       26358.55        128292.49   154651.04   \n",
       "\n",
       "                         HIGHER SALES  \n",
       "SUPPLIER                               \n",
       "CROWN IMPORTS               WAREHOUSE  \n",
       "MILLER BREWING COMPANY      WAREHOUSE  \n",
       "ANHEUSER BUSCH INC          WAREHOUSE  \n",
       "HEINEKEN USA                WAREHOUSE  \n",
       "E & J GALLO WINERY          WAREHOUSE  \n",
       "DIAGEO NORTH AMERICA INC    WAREHOUSE  \n",
       "CONSTELLATION BRANDS           RETAIL  \n",
       "BOSTON BEER CORPORATION     WAREHOUSE  \n",
       "YUENGLING BREWERY           WAREHOUSE  \n",
       "FLYING DOG BREWERY LLLP     WAREHOUSE  "
      ]
     },
     "execution_count": 134,
     "metadata": {},
     "output_type": "execute_result"
    }
   ],
   "source": [
    "df6 = pd.DataFrame()\n",
    "df = pd.read_csv('Warehouse_and_Retail_Sales.csv')\n",
    "\n",
    "def f(x):\n",
    "    if x['RETAIL SALES'] >x['WAREHOUSE SALES']:\n",
    "        return 'RETAIL'\n",
    "    else:\n",
    "        return 'WAREHOUSE'\n",
    "\n",
    "df6['RETAIL SALES'] = df.groupby('SUPPLIER')['RETAIL SALES'].sum()\n",
    "df6['WAREHOUSE SALES'] = df.groupby('SUPPLIER')['WAREHOUSE SALES'].sum()\n",
    "df6['SUM SALES']  = df6['WAREHOUSE SALES']  + df6['RETAIL SALES'] \n",
    "df6['HIGHER SALES'] = df6.T.apply(f)\n",
    "\n",
    "df6.sort_values(by='SUM SALES',ascending=False)[:10]"
   ]
  },
  {
   "cell_type": "markdown",
   "id": "d8385976",
   "metadata": {},
   "source": [
    "### [Q11 8 points] Find all ITEM DESCRIPTIONs which show up sometimes as *WINE* and sometimes as *KEGS* in the ITEM TYPE."
   ]
  },
  {
   "cell_type": "code",
   "execution_count": 144,
   "id": "5690da33",
   "metadata": {},
   "outputs": [
    {
     "name": "stdout",
     "output_type": "stream",
     "text": [
      "['JAM SANGRIA RED - 1/6 KEG', 'VINO PETITE PINOT GRIGIO - 20L']\n"
     ]
    }
   ],
   "source": [
    "df = pd.read_csv('Warehouse_and_Retail_Sales.csv')\n",
    "df2 = df[df['ITEM TYPE'].isin(['WINE', 'KEGS'])]\n",
    "df3 = df2.groupby('ITEM DESCRIPTION')['ITEM TYPE'].unique()\n",
    "match = df3[df3.apply(lambda x: 'WINE' in x and 'KEGS' in x)].index\n",
    "\n",
    "print(match.tolist())"
   ]
  },
  {
   "cell_type": "markdown",
   "id": "f635d72f",
   "metadata": {},
   "source": [
    "### [Q12 8 points] Retail sales timeline\n",
    "\n",
    "Show a plot where the x-axis is each month from June 2017 until September 2020, and the y-axis is the total of RETAIL SALEs for each month."
   ]
  },
  {
   "cell_type": "code",
   "execution_count": 121,
   "id": "3b76ec0d",
   "metadata": {},
   "outputs": [
    {
     "data": {
      "image/png": "[encoded data removed]",
      "text/plain": [
       "<Figure size 640x480 with 1 Axes>"
      ]
     },
     "metadata": {},
     "output_type": "display_data"
    }
   ],
   "source": [
    "df['DATE'] = pd.to_datetime(df[['YEAR', 'MONTH']].assign(DAY=1))\n",
    "mask1 = df['DATE'] >= '2017-06-01'\n",
    "mask2 = df['DATE'] <= '2020-09-30'\n",
    "df5 = df[mask1 & mask2]\n",
    "sales = df5.groupby('DATE')['RETAIL SALES'].sum()\n",
    "\n",
    "\n",
    "plt.plot(sales.index, sales.values)\n",
    "plt.xlabel('Month')\n",
    "plt.ylabel('Total Retail Sales')\n",
    "plt.title('June 2017 - September 2020)')\n",
    "plt.show()"
   ]
  },
  {
   "cell_type": "markdown",
   "id": "81469737",
   "metadata": {},
   "source": [
    "### [Q13 8 points] Suppliers of funky items\n",
    "\n",
    "For each SUPPLIER, consider the following two numbers:\n",
    "\n",
    "* n1: the number of unique ITEM DESCRIPTIONs sold by this SUPPLIER\n",
    "* n2: the number of unique ITEM DESCRIPTIONS **only** sold by this SUPPLIER (i.e., no other SUPPLIER sells these ITEMs)\n",
    "\n",
    "Among all SUPPLIERs for whom n1 is at least 1000, find the top-5 SUPPLIERS ordered by the ratio *n2/n1*. Print out the names of these 5 SUPPLIERs along with their ratios."
   ]
  },
  {
   "cell_type": "code",
   "execution_count": 131,
   "id": "62340f3b",
   "metadata": {},
   "outputs": [
    {
     "name": "stdout",
     "output_type": "stream",
     "text": [
      "SUPPLIER\n",
      "LEGENDS LTD                          0.989341\n",
      "MONSIEUR TOUTON SELECTION            0.947503\n",
      "REPUBLIC NATIONAL DISTRIBUTING CO    0.822549\n",
      "BACCHUS IMPORTERS LTD                0.792435\n",
      "SOUTHERN GLAZERS WINE AND SPIRITS    0.787561\n",
      "dtype: float64\n"
     ]
    }
   ],
   "source": [
    "x1 = df.groupby('SUPPLIER')['ITEM DESCRIPTION'].nunique()\n",
    "\n",
    "supp_every_item = df.groupby('ITEM DESCRIPTION')['SUPPLIER'].unique()\n",
    "\n",
    "items_one_supplier = supp_every_item[supp_every_item.apply(len) == 1]\n",
    "items_one_supplier = items_one_supplier.explode()\n",
    "\n",
    "x2 = items_one_supplier.value_counts()\n",
    "x2 = x2.reindex(x1.index, fill_value=0)\n",
    "\n",
    "mask = x1[x1 >= 1000]\n",
    "rt_supp = x2.loc[mask.index] / mask\n",
    "print(rt_supp.sort_values(ascending=False).head(5))"
   ]
  },
  {
   "cell_type": "markdown",
   "id": "742904cb",
   "metadata": {},
   "source": [
    "---\n",
    "\n",
    "### [Q14 12 points] Logistic Regression\n",
    "We will analyze a dataset called *gyro_acc.csv*.\n",
    "Each row records information from body sensors, alongside a timestamp and an \"Activity\" (walking or standing; encoded as 0/1).\n",
    "\n",
    "We want to use **Logistic Regression** predict Activity using all the other features **except timestamp**.\n",
    "* Split the data into 70%-train, 30%-test set.\n",
    "* Calculate the *training* accuracy of the baseline classifier.\n",
    "* Train a logistic regression classifier, and print its training and test accuracy.\n",
    "* Which feature is found to be the most important feature?"
   ]
  },
  {
   "cell_type": "code",
   "execution_count": 135,
   "id": "e94b9aaf",
   "metadata": {},
   "outputs": [],
   "source": [
    "from patsy import dmatrices\n",
    "from sklearn.model_selection import train_test_split\n",
    "import numpy as np\n",
    "import pandas as pd\n",
    "\n",
    "\n",
    "df = pd.read_csv('gyro_acc.csv')\n",
    "\n",
    "df['target'] = df['Activity']\n",
    "\n",
    "formula = ''"
   ]
  },
  {
   "cell_type": "code",
   "execution_count": 137,
   "id": "a97c57b5",
   "metadata": {},
   "outputs": [
    {
     "data": {
      "text/plain": [
       "\"target ~ 0 +Q('accX') + Q('accY') + Q('accZ') + Q('gyroX') + Q('gyroY') + Q('gyroZ')\""
      ]
     },
     "execution_count": 137,
     "metadata": {},
     "output_type": "execute_result"
    }
   ],
   "source": [
    "for column in df.columns:\n",
    "    if (column in ['target','timestamp', 'Activity']):\n",
    "        pass\n",
    "    else:\n",
    "        if formula == '':\n",
    "            formula = 'Q(\\'' + column + '\\')'\n",
    "        else:\n",
    "            formula = formula + ' + Q(\\'' + column + '\\')'\n",
    "\n",
    "formula = 'target ~ 0 +' + formula\n",
    "\n",
    "formula"
   ]
  },
  {
   "cell_type": "code",
   "execution_count": 139,
   "id": "0d437bd4",
   "metadata": {},
   "outputs": [],
   "source": [
    "Y,X = dmatrices(formula,df, return_type = 'dataframe')\n",
    "y = Y['target'].values\n",
    "\n",
    "\n",
    "X_train, X_test, y_train, y_test = train_test_split(X, y, test_size=0.30, random_state=1)"
   ]
  },
  {
   "cell_type": "code",
   "execution_count": 140,
   "id": "ea027757",
   "metadata": {},
   "outputs": [],
   "source": [
    "from sklearn import metrics\n",
    "prediction_on_baseline = np.ones(len(y_test))\n",
    "accuracy_bl = metrics.accuracy_score(y_test, prediction_on_baseline)\n",
    "\n",
    "from sklearn.linear_model import LogisticRegression\n",
    "\n",
    "model = LogisticRegression()\n",
    "\n",
    "model.fit(X_train, y_train)\n",
    "\n",
    "prediction_train = model.predict(X_train)\n",
    "accuracy_train = metrics.accuracy_score(y_train, prediction_train)\n",
    "prediction_test = model.predict(X_test)\n",
    "accuracy_test= metrics.accuracy_score(y_test, prediction_test)"
   ]
  },
  {
   "cell_type": "code",
   "execution_count": 142,
   "id": "7f53aecb",
   "metadata": {},
   "outputs": [
    {
     "name": "stdout",
     "output_type": "stream",
     "text": [
      "Baseline Accuracy:\n",
      "0.6770428015564203\n",
      "training accuracy:\n",
      "0.7848206839032527\n",
      "Test accuracy:\n",
      "0.8190661478599222\n"
     ]
    }
   ],
   "source": [
    "print('Baseline Accuracy:')\n",
    "print(accuracy_bl)\n",
    "print('training accuracy:')\n",
    "print(accuracy_train)\n",
    "print('Test accuracy:')\n",
    "print(accuracy_test)"
   ]
  },
  {
   "cell_type": "code",
   "execution_count": null,
   "id": "554ad1c6",
   "metadata": {},
   "outputs": [],
   "source": []
  }
 ],
 "metadata": {
  "kernelspec": {
   "display_name": "Python 3 (ipykernel)",
   "language": "python",
   "name": "python3"
  },
  "language_info": {
   "codemirror_mode": {
    "name": "ipython",
    "version": 3
   },
   "file_extension": ".py",
   "mimetype": "text/x-python",
   "name": "python",
   "nbconvert_exporter": "python",
   "pygments_lexer": "ipython3",
   "version": "3.10.9"
  }
 },
 "nbformat": 4,
 "nbformat_minor": 5
}
